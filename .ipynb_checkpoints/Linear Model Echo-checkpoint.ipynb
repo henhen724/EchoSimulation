{
 "cells": [
  {
   "cell_type": "code",
   "execution_count": 3,
   "metadata": {},
   "outputs": [],
   "source": [
    "import numpy as np\n",
    "import matplotlib.pyplot as plt"
   ]
  },
  {
   "cell_type": "code",
   "execution_count": 4,
   "metadata": {},
   "outputs": [],
   "source": [
    "def checkTypes(phaseVec, omega):\n",
    "    if not isinstance(phaseVec, np.ndarray):\n",
    "        print(\"The phase vector must be a numpy array.\")\n",
    "        return False\n",
    "    if not isinstance(omega, np.ndarray):\n",
    "        print(\"The angular velocity vector must be a numpy array.\")\n",
    "        return False\n",
    "    if not phaseVec.shape[0] == 2:\n",
    "        print(\"The phase vector must be a 2xN matrix, where N is the number of particles\")\n",
    "        return False\n",
    "    if not phaseVec.shape[1] == omega.shape[0]:\n",
    "        print(\"The number of particles in the phase vector (2xN) and the angular velocity vector (N) don't match.\")\n",
    "        return False\n",
    "    return True\n",
    "\n",
    "def setOmega(phaseVec, omega_0 = 0.1, alpha = 0.05):\n",
    "    J = np.square(phaseVec[0,]) + np.square(phaseVec[1,])\n",
    "    newOmega  = omega_0 + alpha*J\n",
    "    return newOmega\n",
    "    \n",
    "def plotTurns(phaseVec, omega, n, phaseSpaceFig, positionFig):\n",
    "    for i in range(0, n):\n",
    "        phaseSpaceFig.scatter(phaseVec[0,], phaseVec[1,])\n",
    "        positionFig.plot(np.sum(phaseVec[0,])/phaseVec.shape[1], i)\n",
    "        phaseVec = turn(phaseVec, omega)\n",
    "\n",
    "def turn(phaseVec, omega, n=1, timestep=1):\n",
    "    if not checkTypes(phaseVec, omega):\n",
    "        return\n",
    "    newPhaseVec =  np.empty((2, phaseVec.shape[1]))\n",
    "    theta = n*timestep*omega\n",
    "    newPhaseVec[0,] = np.multiply(np.cos(theta), phaseVec[0,]) - np.multiply(np.sin(theta), phaseVec[1,])\n",
    "    newPhaseVec[1,] = np.multiply(np.cos(theta), phaseVec[1,]) + np.multiply(np.sin(theta), phaseVec[0,])\n",
    "    return newPhaseVec\n",
    "    \n",
    "def dipoleKick(phaseVec, omega, k):\n",
    "    if not checkTypes(phaseVec, omega):\n",
    "        return\n",
    "    newPhaseVec =  np.empty((2, phaseVec.shape[1]))\n",
    "    newPhaseVec[0,] = phaseVec[0,] + k\n",
    "    newPhaseVec[1,] = phaseVec[1,]\n",
    "    newOmega = setOmega(newPhaseVec)\n",
    "    return (newPhaseVec, newOmega)\n",
    "    \n",
    "def quadrapoleKick(phaseVec, omega, k): \n",
    "    if not checkTypes(phaseVec, omega):\n",
    "        return\n",
    "    newPhaseVec =  np.empty((2, phaseVec.shape[1]))\n",
    "    newPhaseVec[0,] = phaseVec[0,]\n",
    "    newPhaseVec[1,] = phaseVec[1,] + k*phaseVec[0,]\n",
    "    newOmega = setOmega(newPhaseVec)\n",
    "    return (newPhaseVec, newOmega)\n",
    "\n",
    "def sextapoleKick(phaseVec, omega, k): \n",
    "    if not checkTypes(phaseVec, omega):\n",
    "        return\n",
    "    newPhaseVec =  np.empty((2, phaseVec.shape[1]))\n",
    "    newPhaseVec[0,] = phaseVec[0,]\n",
    "    newPhaseVec[1,] = phaseVec[1,] + k*np.square(phaseVec[0,])\n",
    "    newOmega = setOmega(newPhaseVec)\n",
    "    return (newPhaseVec, newOmega)\n",
    "\n",
    "def octapoleKick(phaseVec, omega, k): \n",
    "    if not checkTypes(phaseVec, omega):\n",
    "        return\n",
    "    newPhaseVec =  np.empty((2, phaseVec.shape[1]))\n",
    "    newPhaseVec[0,] = phaseVec[0,]\n",
    "    newPhaseVec[1,] = phaseVec[1,] + k*np.power(phaseVec[0,], 3)\n",
    "    newOmega = setOmega(newPhaseVec)\n",
    "    return (newPhaseVec, newOmega)"
   ]
  },
  {
   "cell_type": "code",
   "execution_count": 5,
   "metadata": {},
   "outputs": [
    {
     "data": {
      "image/png": "[encoded data removed]",
      "text/plain": [
       "<Figure size 432x288 with 1 Axes>"
      ]
     },
     "metadata": {
      "needs_background": "light"
     },
     "output_type": "display_data"
    }
   ],
   "source": [
    "phaseVec = np.empty((2, 200))\n",
    "phaseVec[0,] = np.random.normal(1.0, 0.1, size=(1,200))\n",
    "phaseVec[1,] = np.random.normal(0.0, 0.1, size=(1,200))\n",
    "omega = setOmega(phaseVec)\n",
    "plotTurns(phaseVec, omega, 15)"
   ]
  },
  {
   "cell_type": "code",
   "execution_count": null,
   "metadata": {},
   "outputs": [],
   "source": []
  }
 ],
 "metadata": {
  "kernelspec": {
   "display_name": "Python 3",
   "language": "python",
   "name": "python3"
  },
  "language_info": {
   "codemirror_mode": {
    "name": "ipython",
    "version": 3
   },
   "file_extension": ".py",
   "mimetype": "text/x-python",
   "name": "python",
   "nbconvert_exporter": "python",
   "pygments_lexer": "ipython3",
   "version": "3.7.3"
  }
 },
 "nbformat": 4,
 "nbformat_minor": 5
}
