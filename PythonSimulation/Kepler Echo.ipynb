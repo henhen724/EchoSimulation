{
 "cells": [
  {
   "cell_type": "code",
   "execution_count": 1,
   "source": [
    "import poliastro as PA\r\n",
    "import numpy as np\r\n",
    "import matplotlib.pyplot as plt\r\n",
    "import time as time_pkg\r\n",
    "\r\n",
    "from astropy import units as u\r\n",
    "\r\n",
    "from poliastro.bodies import Earth, Body\r\n",
    "from poliastro.twobody import Orbit\r\n",
    "from poliastro.examples import iss\r\n",
    "\r\n",
    "from scipy.stats import expon, uniform, norm, triang\r\n",
    "from scipy.special import comb\r\n",
    "\r\n",
    "from lib.GPUKeplerSimulation import propagate, average_scaler, average_3vector\r\n",
    "from lib.DisplaySimulation import displaySimulation"
   ],
   "outputs": [],
   "metadata": {}
  },
  {
   "cell_type": "code",
   "execution_count": 10,
   "source": [
    "import cupy as cp\r\n",
    "\r\n",
    "mempool = cp.get_default_memory_pool()"
   ],
   "outputs": [],
   "metadata": {}
  },
  {
   "cell_type": "code",
   "execution_count": 11,
   "source": [
    "print(mempool.used_bytes())\r\n",
    "mempool.free_all_blocks()\r\n",
    "mempool.used_bytes()"
   ],
   "outputs": [
    {
     "output_type": "stream",
     "name": "stdout",
     "text": [
      "1024\n"
     ]
    },
    {
     "output_type": "execute_result",
     "data": {
      "text/plain": [
       "1024"
      ]
     },
     "metadata": {},
     "execution_count": 11
    }
   ],
   "metadata": {}
  },
  {
   "cell_type": "code",
   "execution_count": null,
   "source": [
    "displaySimulation(orb)"
   ],
   "outputs": [],
   "metadata": {}
  },
  {
   "cell_type": "code",
   "execution_count": null,
   "source": [
    "# Exponential Distribution\r\n",
    "size = 100\r\n",
    "\r\n",
    "J_1 = expon.rvs(scale=1, loc=0.0, size=size)\r\n",
    "\r\n",
    "exponential_var2 = expon.rvs(scale=0.01, loc=0, size=size)\r\n",
    "J_2 = J_1 - exponential_var2\r\n",
    "\r\n",
    "for i in range(0,size):\r\n",
    "    if J_2[i] < 0.0:\r\n",
    "        J_2[i] = 0.0001\r\n",
    "\r\n",
    "exponential_var3 = expon.rvs(scale=0.1, loc=0, size=size)\r\n",
    "J_3 = J_2 - exponential_var3\r\n",
    "\r\n",
    "for i in range(0,size):\r\n",
    "    if J_3[i] < -J_2[i]:\r\n",
    "        J_3[i] = -J_2[i]\r\n",
    "\r\n",
    "M = uniform.rvs(loc = -np.pi, scale = np.pi, size=size) * u.rad\r\n",
    "w = uniform.rvs(loc = -np.pi, scale = np.pi, size=size) * u.rad\r\n",
    "Omega = uniform.rvs(loc = -np.pi, scale = np.pi, size=size) * u.rad"
   ],
   "outputs": [],
   "metadata": {}
  },
  {
   "cell_type": "code",
   "execution_count": null,
   "source": [
    "# Near Circular Distribution\r\n",
    "size = 500\r\n",
    "r_0 = 1*u.km\r\n",
    "sigma_e = 0.01*np.sqrt(1*u.km)\r\n",
    "sigma_a = 0.000*np.sqrt(1*u.km)\r\n",
    "alpha_over_m = 1*u.km**3/u.s**2 \r\n",
    "\r\n",
    "\r\n",
    "expvar1 = expon.rvs(scale=sigma_e, loc=0, size=size)*np.sqrt(1*u.km)\r\n",
    "\r\n",
    "#J_2 = expon.norm(scale=sigma_a, loc=r_0, size=size)\r\n",
    "J_2 = np.repeat(np.sqrt(r_0), size)\r\n",
    "\r\n",
    "J_1 = expvar1 + J_2\r\n",
    "J_3 = J_2\r\n",
    "\r\n",
    "M = uniform.rvs(loc = 0, scale = 2*np.pi, size=size) * u.rad\r\n",
    "w = uniform.rvs(loc = 0, scale = 2*np.pi, size=size) * u.rad\r\n",
    "Omega = np.repeat(0.0, size) * u.rad"
   ],
   "outputs": [],
   "metadata": {}
  },
  {
   "cell_type": "code",
   "execution_count": null,
   "source": [
    "# Near Gausian in R Distribution\r\n",
    "size = 500\r\n",
    "r_0 = 1*u.km\r\n",
    "sigma_r = 0.5*u.kg*u.km**2\r\n",
    "alpha_over_m = 1*u.km**3/u.s**2 \r\n",
    "\r\n",
    "\r\n",
    "expvar1 = expon.rvs(scale=1, loc=0, size=size)\r\n",
    "\r\n",
    "#J_2 = expon.norm(scale=sigma_a, loc=r_0, size=size)\r\n",
    "J_2 = np.repeat(np.sqrt(r_0), size)\r\n",
    "\r\n",
    "J_1 = np.sqrt((np.power(J_2, 2) + np.sqrt(np.power(J_2, 4) + sigma_r*expvar1))/2.0)\r\n",
    "J_3 = J_2\r\n",
    "\r\n",
    "M = uniform.rvs(loc = -2*np.pi, scale = 2*np.pi, size=size) * u.rad\r\n",
    "w = uniform.rvs(loc = 0, scale = 2*np.pi, size=size) * u.rad\r\n",
    "Omega = np.repeat(0.0, size) * u.rad"
   ],
   "outputs": [],
   "metadata": {}
  },
  {
   "cell_type": "code",
   "execution_count": 2,
   "source": [
    "# Near SHO Distribution\r\n",
    "# Here I'm setting J_SHO = sqrt(ma^3/2k) * (p^2/2m + k/a^3*x^2)\r\n",
    "# This leads to J_SHO = sqrt(ka/2)e^2 = sqrt(k/2)(J_1 - J_2^2/J_1)\r\n",
    "# Then im distributing particles according to exp{- J_SHO/epsilon}\r\n",
    "\r\n",
    "size = 20000\r\n",
    "r_0 = 0.05*u.km\r\n",
    "epsilon = 0.0000001*u.kg*u.km**2/u.s\r\n",
    "k = 0.00112*u.kg*u.km**3/u.s**2 \r\n",
    "m = 0.1*u.kg\r\n",
    "\r\n",
    "J_SHO = expon.rvs(scale=epsilon, loc=0, size=size)*1*u.kg*u.km**2/u.s\r\n",
    "\r\n",
    "#J_2 = expon.norm(scale=sigma_a, loc=r_0, size=size)\r\n",
    "J_2 = np.repeat(np.sqrt(r_0), size)\r\n",
    "\r\n",
    "J_1 = (J_SHO + np.sqrt(np.power(J_SHO, 2) + 4*k*m*np.power(J_2, 2)))/(2.0*np.sqrt(k*m))\r\n",
    "J_3 = J_2\r\n",
    "\r\n",
    "M = uniform.rvs(loc = -2*np.pi, scale = 2*np.pi, size=size) * u.rad\r\n",
    "w = uniform.rvs(loc = 0, scale = 2*np.pi, size=size) * u.rad\r\n",
    "Omega = np.repeat(0.0, size) * u.rad"
   ],
   "outputs": [],
   "metadata": {}
  },
  {
   "cell_type": "code",
   "execution_count": 3,
   "source": [
    "omega = np.sqrt(k/m)/np.power(r_0, 3.0/2.0)\r\n",
    "omega_prime = -3/(2*m*np.power(r_0, 2.0))\r\n",
    "print(\"Omega_0: \", omega)\r\n",
    "print(\"Omega_prime: \", omega_prime)\r\n",
    "print(\"Decoherance Time: \", 2*np.pi/(omega_prime*epsilon))\r\n",
    "\r\n",
    "# average_radius = 3*sigma_e**2 + 3*sigma_e*sigma_a + 3*sigma_e*np.sqrt(r_0) + 2*sigma_a**2 + 2*sigma_a*np.sqrt(r_0) + r_0\r\n",
    "# print(\"Inital average radius: \", average_radius)"
   ],
   "outputs": [
    {
     "output_type": "stream",
     "name": "stdout",
     "text": [
      "Omega_0:  9.465727652959384 1 / s\n",
      "Omega_prime:  -5999.999999999998 1 / (kg km2)\n",
      "Decoherance Time:  -10471.97551196598 s\n"
     ]
    }
   ],
   "metadata": {}
  },
  {
   "cell_type": "code",
   "execution_count": 4,
   "source": [
    "a = np.square(J_1)\r\n",
    "ecc = np.sqrt(1 - np.square(J_2/J_1)) * u.one\r\n",
    "inc = np.arccos(J_3/J_2)\r\n",
    "\r\n",
    "GM = Body(None, k/m, \"Central Body\")"
   ],
   "outputs": [],
   "metadata": {}
  },
  {
   "cell_type": "code",
   "execution_count": 5,
   "source": [
    "class AsteriodBelt:\r\n",
    "    size = 0\r\n",
    "    micro = 1*u.km**3/u.s**2\r\n",
    "    a = np.array([])*u.km\r\n",
    "    ecc = np.array([])*u.one\r\n",
    "    inc = np.array([])*u.rad\r\n",
    "    Omega = np.array([])*u.rad\r\n",
    "    w = np.array([])*u.rad\r\n",
    "    M = np.array([])*u.rad\r\n",
    "    def __init__(self, _size, _micro, _a, _ecc, _inc, _Omega, _w, _M):\r\n",
    "        self.size = _size\r\n",
    "        self.micro = _micro\r\n",
    "        self.a = _a\r\n",
    "        self.ecc = _ecc\r\n",
    "        self.inc = _inc\r\n",
    "        self.Omega = _Omega\r\n",
    "        self.w = _w\r\n",
    "        self.M = _M\r\n",
    "        \r\n",
    "    def setMeanAnamoly(self, _M):\r\n",
    "        self.M = _M"
   ],
   "outputs": [],
   "metadata": {}
  },
  {
   "cell_type": "code",
   "execution_count": 6,
   "source": [
    "belt = AsteriodBelt(size, k/m, a, ecc, inc, Omega, w, M)"
   ],
   "outputs": [],
   "metadata": {}
  },
  {
   "cell_type": "code",
   "execution_count": 7,
   "source": [
    "timestep = 1*u.second\r\n",
    "\r\n",
    "time_before_kick = 200*u.second\r\n",
    "time_after_kick = 0*u.second\r\n",
    "time_after_quad_kick = 0*u.second\r\n",
    "\r\n",
    "dipole_time = time_before_kick\r\n",
    "quad_time = time_before_kick + time_after_kick\r\n",
    "end_time = time_before_kick + time_after_kick + time_after_quad_kick\r\n",
    "\r\n",
    "dipole_step = int(dipole_time/timestep)\r\n",
    "quad_step = int(quad_time/timestep)\r\n",
    "end_step = int(end_time/timestep)\r\n",
    "\r\n",
    "\r\n",
    "time = np.linspace(0.0*u.second, end_time, end_step)\r\n",
    "\r\n",
    "avr_radius = np.zeros(end_step) * u.km\r\n",
    "\r\n",
    "radiuses = np.zeros((size, end_step)) * u.km\r\n",
    "velocities = np.zeros((size, end_step)) * u.km/u.s"
   ],
   "outputs": [],
   "metadata": {}
  },
  {
   "cell_type": "code",
   "execution_count": 8,
   "source": [
    "gpuStart = time_pkg.time()\r\n",
    "radiuses[:,0:dipole_step], velocities[:,0:dipole_step], final_mean_anamoly = propagate(belt, dipole_time, timestep)\r\n",
    "gpuEnd = time_pkg.time()\r\n",
    "belt.setMeanAnamoly(final_mean_anamoly)\r\n",
    "astroEnd = time_pkg.time()\r\n",
    "\r\n",
    "print(\"GPU Time: \", gpuEnd-gpuStart, \" Astro Time: \", astroEnd-gpuEnd)"
   ],
   "outputs": [
    {
     "output_type": "stream",
     "name": "stdout",
     "text": [
      "MEM LIMIT:  6871947673\n",
      "FIXED MEM:  480000   STEP MEMORY:  5280000\n",
      "Max Steps:  1301.4143320075757   Frames:  2\n",
      "GPU Memory in use before frames:  1024\n",
      "Running propagation from  0  to  1301\n",
      "<__main__.AsteriodBelt object at 0x0000025B559D0D30> [0.00000000e+00 1.00050025e-01 2.00100050e-01 ... 1.29864932e+02\n",
      " 1.29964982e+02 1.30065033e+02] s 1301 None\n",
      " Obj Extract:  0.00598454475402832  E Calc:  0.6751935482025146\n",
      "After clearing:  1024\n",
      "Running propagation from  1301  to  2000\n",
      "<__main__.AsteriodBelt object at 0x0000025B559D0D30> [130.16508254 130.26513257 130.36518259 130.46523262 130.56528264\n",
      " 130.66533267 130.76538269 130.86543272 130.96548274 131.06553277\n",
      " 131.16558279 131.26563282 131.36568284 131.46573287 131.56578289\n",
      " 131.66583292 131.76588294 131.86593297 131.96598299 132.06603302\n",
      " 132.16608304 132.26613307 132.36618309 132.46623312 132.56628314\n",
      " 132.66633317 132.76638319 132.86643322 132.96648324 133.06653327\n",
      " 133.16658329 133.26663332 133.36668334 133.46673337 133.56678339\n",
      " 133.66683342 133.76688344 133.86693347 133.96698349 134.06703352\n",
      " 134.16708354 134.26713357 134.36718359 134.46723362 134.56728364\n",
      " 134.66733367 134.76738369 134.86743372 134.96748374 135.06753377\n",
      " 135.16758379 135.26763382 135.36768384 135.46773387 135.56778389\n",
      " 135.66783392 135.76788394 135.86793397 135.96798399 136.06803402\n",
      " 136.16808404 136.26813407 136.36818409 136.46823412 136.56828414\n",
      " 136.66833417 136.76838419 136.86843422 136.96848424 137.06853427\n",
      " 137.16858429 137.26863432 137.36868434 137.46873437 137.56878439\n",
      " 137.66883442 137.76888444 137.86893447 137.96898449 138.06903452\n",
      " 138.16908454 138.26913457 138.36918459 138.46923462 138.56928464\n",
      " 138.66933467 138.76938469 138.86943472 138.96948474 139.06953477\n",
      " 139.16958479 139.26963482 139.36968484 139.46973487 139.56978489\n",
      " 139.66983492 139.76988494 139.86993497 139.96998499 140.07003502\n",
      " 140.17008504 140.27013507 140.37018509 140.47023512 140.57028514\n",
      " 140.67033517 140.77038519 140.87043522 140.97048524 141.07053527\n",
      " 141.17058529 141.27063532 141.37068534 141.47073537 141.57078539\n",
      " 141.67083542 141.77088544 141.87093547 141.97098549 142.07103552\n",
      " 142.17108554 142.27113557 142.37118559 142.47123562 142.57128564\n",
      " 142.67133567 142.77138569 142.87143572 142.97148574 143.07153577\n",
      " 143.17158579 143.27163582 143.37168584 143.47173587 143.57178589\n",
      " 143.67183592 143.77188594 143.87193597 143.97198599 144.07203602\n",
      " 144.17208604 144.27213607 144.37218609 144.47223612 144.57228614\n",
      " 144.67233617 144.77238619 144.87243622 144.97248624 145.07253627\n",
      " 145.17258629 145.27263632 145.37268634 145.47273637 145.57278639\n",
      " 145.67283642 145.77288644 145.87293647 145.97298649 146.07303652\n",
      " 146.17308654 146.27313657 146.37318659 146.47323662 146.57328664\n",
      " 146.67333667 146.77338669 146.87343672 146.97348674 147.07353677\n",
      " 147.17358679 147.27363682 147.37368684 147.47373687 147.57378689\n",
      " 147.67383692 147.77388694 147.87393697 147.97398699 148.07403702\n",
      " 148.17408704 148.27413707 148.37418709 148.47423712 148.57428714\n",
      " 148.67433717 148.77438719 148.87443722 148.97448724 149.07453727\n",
      " 149.17458729 149.27463732 149.37468734 149.47473737 149.57478739\n",
      " 149.67483742 149.77488744 149.87493747 149.97498749 150.07503752\n",
      " 150.17508754 150.27513757 150.37518759 150.47523762 150.57528764\n",
      " 150.67533767 150.77538769 150.87543772 150.97548774 151.07553777\n",
      " 151.17558779 151.27563782 151.37568784 151.47573787 151.57578789\n",
      " 151.67583792 151.77588794 151.87593797 151.97598799 152.07603802\n",
      " 152.17608804 152.27613807 152.37618809 152.47623812 152.57628814\n",
      " 152.67633817 152.77638819 152.87643822 152.97648824 153.07653827\n",
      " 153.17658829 153.27663832 153.37668834 153.47673837 153.57678839\n",
      " 153.67683842 153.77688844 153.87693847 153.97698849 154.07703852\n",
      " 154.17708854 154.27713857 154.37718859 154.47723862 154.57728864\n",
      " 154.67733867 154.77738869 154.87743872 154.97748874 155.07753877\n",
      " 155.17758879 155.27763882 155.37768884 155.47773887 155.57778889\n",
      " 155.67783892 155.77788894 155.87793897 155.97798899 156.07803902\n",
      " 156.17808904 156.27813907 156.37818909 156.47823912 156.57828914\n",
      " 156.67833917 156.77838919 156.87843922 156.97848924 157.07853927\n",
      " 157.17858929 157.27863932 157.37868934 157.47873937 157.57878939\n",
      " 157.67883942 157.77888944 157.87893947 157.97898949 158.07903952\n",
      " 158.17908954 158.27913957 158.37918959 158.47923962 158.57928964\n",
      " 158.67933967 158.77938969 158.87943972 158.97948974 159.07953977\n",
      " 159.17958979 159.27963982 159.37968984 159.47973987 159.57978989\n",
      " 159.67983992 159.77988994 159.87993997 159.97998999 160.08004002\n",
      " 160.18009005 160.28014007 160.3801901  160.48024012 160.58029015\n",
      " 160.68034017 160.7803902  160.88044022 160.98049025 161.08054027\n",
      " 161.1805903  161.28064032 161.38069035 161.48074037 161.5807904\n",
      " 161.68084042 161.78089045 161.88094047 161.9809905  162.08104052\n",
      " 162.18109055 162.28114057 162.3811906  162.48124062 162.58129065\n",
      " 162.68134067 162.7813907  162.88144072 162.98149075 163.08154077\n",
      " 163.1815908  163.28164082 163.38169085 163.48174087 163.5817909\n",
      " 163.68184092 163.78189095 163.88194097 163.981991   164.08204102\n",
      " 164.18209105 164.28214107 164.3821911  164.48224112 164.58229115\n",
      " 164.68234117 164.7823912  164.88244122 164.98249125 165.08254127\n",
      " 165.1825913  165.28264132 165.38269135 165.48274137 165.5827914\n",
      " 165.68284142 165.78289145 165.88294147 165.9829915  166.08304152\n",
      " 166.18309155 166.28314157 166.3831916  166.48324162 166.58329165\n",
      " 166.68334167 166.7833917  166.88344172 166.98349175 167.08354177\n",
      " 167.1835918  167.28364182 167.38369185 167.48374187 167.5837919\n",
      " 167.68384192 167.78389195 167.88394197 167.983992   168.08404202\n",
      " 168.18409205 168.28414207 168.3841921  168.48424212 168.58429215\n",
      " 168.68434217 168.7843922  168.88444222 168.98449225 169.08454227\n",
      " 169.1845923  169.28464232 169.38469235 169.48474237 169.5847924\n",
      " 169.68484242 169.78489245 169.88494247 169.9849925  170.08504252\n",
      " 170.18509255 170.28514257 170.3851926  170.48524262 170.58529265\n",
      " 170.68534267 170.7853927  170.88544272 170.98549275 171.08554277\n",
      " 171.1855928  171.28564282 171.38569285 171.48574287 171.5857929\n",
      " 171.68584292 171.78589295 171.88594297 171.985993   172.08604302\n",
      " 172.18609305 172.28614307 172.3861931  172.48624312 172.58629315\n",
      " 172.68634317 172.7863932  172.88644322 172.98649325 173.08654327\n",
      " 173.1865933  173.28664332 173.38669335 173.48674337 173.5867934\n",
      " 173.68684342 173.78689345 173.88694347 173.9869935  174.08704352\n",
      " 174.18709355 174.28714357 174.3871936  174.48724362 174.58729365\n",
      " 174.68734367 174.7873937  174.88744372 174.98749375 175.08754377\n",
      " 175.1875938  175.28764382 175.38769385 175.48774387 175.5877939\n",
      " 175.68784392 175.78789395 175.88794397 175.987994   176.08804402\n",
      " 176.18809405 176.28814407 176.3881941  176.48824412 176.58829415\n",
      " 176.68834417 176.7883942  176.88844422 176.98849425 177.08854427\n",
      " 177.1885943  177.28864432 177.38869435 177.48874437 177.5887944\n",
      " 177.68884442 177.78889445 177.88894447 177.9889945  178.08904452\n",
      " 178.18909455 178.28914457 178.3891946  178.48924462 178.58929465\n",
      " 178.68934467 178.7893947  178.88944472 178.98949475 179.08954477\n",
      " 179.1895948  179.28964482 179.38969485 179.48974487 179.5897949\n",
      " 179.68984492 179.78989495 179.88994497 179.989995   180.09004502\n",
      " 180.19009505 180.29014507 180.3901951  180.49024512 180.59029515\n",
      " 180.69034517 180.7903952  180.89044522 180.99049525 181.09054527\n",
      " 181.1905953  181.29064532 181.39069535 181.49074537 181.5907954\n",
      " 181.69084542 181.79089545 181.89094547 181.9909955  182.09104552\n",
      " 182.19109555 182.29114557 182.3911956  182.49124562 182.59129565\n",
      " 182.69134567 182.7913957  182.89144572 182.99149575 183.09154577\n",
      " 183.1915958  183.29164582 183.39169585 183.49174587 183.5917959\n",
      " 183.69184592 183.79189595 183.89194597 183.991996   184.09204602\n",
      " 184.19209605 184.29214607 184.3921961  184.49224612 184.59229615\n",
      " 184.69234617 184.7923962  184.89244622 184.99249625 185.09254627\n",
      " 185.1925963  185.29264632 185.39269635 185.49274637 185.5927964\n",
      " 185.69284642 185.79289645 185.89294647 185.9929965  186.09304652\n",
      " 186.19309655 186.29314657 186.3931966  186.49324662 186.59329665\n",
      " 186.69334667 186.7933967  186.89344672 186.99349675 187.09354677\n",
      " 187.1935968  187.29364682 187.39369685 187.49374687 187.5937969\n",
      " 187.69384692 187.79389695 187.89394697 187.993997   188.09404702\n",
      " 188.19409705 188.29414707 188.3941971  188.49424712 188.59429715\n",
      " 188.69434717 188.7943972  188.89444722 188.99449725 189.09454727\n",
      " 189.1945973  189.29464732 189.39469735 189.49474737 189.5947974\n",
      " 189.69484742 189.79489745 189.89494747 189.9949975  190.09504752\n",
      " 190.19509755 190.29514757 190.3951976  190.49524762 190.59529765\n",
      " 190.69534767 190.7953977  190.89544772 190.99549775 191.09554777\n",
      " 191.1955978  191.29564782 191.39569785 191.49574787 191.5957979\n",
      " 191.69584792 191.79589795 191.89594797 191.995998   192.09604802\n",
      " 192.19609805 192.29614807 192.3961981  192.49624812 192.59629815\n",
      " 192.69634817 192.7963982  192.89644822 192.99649825 193.09654827\n",
      " 193.1965983  193.29664832 193.39669835 193.49674837 193.5967984\n",
      " 193.69684842 193.79689845 193.89694847 193.9969985  194.09704852\n",
      " 194.19709855 194.29714857 194.3971986  194.49724862 194.59729865\n",
      " 194.69734867 194.7973987  194.89744872 194.99749875 195.09754877\n",
      " 195.1975988  195.29764882 195.39769885 195.49774887 195.5977989\n",
      " 195.69784892 195.79789895 195.89794897 195.997999   196.09804902\n",
      " 196.19809905 196.29814907 196.3981991  196.49824912 196.59829915\n",
      " 196.69834917 196.7983992  196.89844922 196.99849925 197.09854927\n",
      " 197.1985993  197.29864932 197.39869935 197.49874937 197.5987994\n",
      " 197.69884942 197.79889945 197.89894947 197.9989995  198.09904952\n",
      " 198.19909955 198.29914957 198.3991996  198.49924962 198.59929965\n",
      " 198.69934967 198.7993997  198.89944972 198.99949975 199.09954977\n",
      " 199.1995998  199.29964982 199.39969985 199.49974987 199.5997999\n",
      " 199.69984992 199.79989995 199.89994997 200.        ] s 699 [ 2.34473797  4.62395605  5.04759269 ... -0.29196419  4.14250492\n",
      "  3.22836166] rad\n",
      " Obj Extract:  0.0019953250885009766  E Calc:  0.1874990463256836\n",
      "After clearing:  1024\n",
      "GPU Time:  2.0176029205322266  Astro Time:  0.0\n"
     ]
    }
   ],
   "metadata": {}
  },
  {
   "cell_type": "code",
   "execution_count": 9,
   "source": [
    "avr_radius[0:dipole_step] = average_scaler(radiuses, end=dipole_step)"
   ],
   "outputs": [],
   "metadata": {}
  },
  {
   "cell_type": "code",
   "execution_count": 10,
   "source": [
    "plt.plot(time[0:dipole_step], avr_radius[0:dipole_step])"
   ],
   "outputs": [
    {
     "output_type": "execute_result",
     "data": {
      "text/plain": [
       "[<matplotlib.lines.Line2D at 0x25b4f6cffa0>]"
      ]
     },
     "metadata": {},
     "execution_count": 10
    },
    {
     "output_type": "display_data",
     "data": {
      "image/png": "[encoded data removed]",
      "text/plain": [
       "<Figure size 432x288 with 1 Axes>"
      ]
     },
     "metadata": {
      "needs_background": "light"
     }
    }
   ],
   "metadata": {}
  },
  {
   "cell_type": "code",
   "execution_count": null,
   "source": [
    "unit_r = np.empty(3) \r\n",
    "newR = np.empty(3)\r\n",
    "\r\n",
    "orb = [None]*belt.size\r\n",
    "\r\n",
    "for i in range(0, belt.size):\r\n",
    "    orb[i] = Orbit.from_classical(GM, belt.a[i], belt.ecc[i], belt.inc[i], belt.Omega[i], belt.w[i], PA.core.angles.E_to_nu(PA.core.angles.E_to_M(belt.M[i], belt.ecc[i]), belt.ecc[i])*u.rad)\r\n",
    "\r\n",
    "kickStrength = 0.001*u.km\r\n",
    "\r\n",
    "for i in range(0, size):\r\n",
    "        if orb[i].energy >= 0:\r\n",
    "            print(orb[i], \" is ALREADY not a bound orbit BEFORE KICKING.\")\r\n",
    "        old_radius = np.linalg.norm(orb[i].r)\r\n",
    "        unit_r = orb[i].r/old_radius\r\n",
    "        old_r_0 = orb[i].a*(1 - np.square(orb[i].ecc))\r\n",
    "        newPosition = orb[i].r + kickStrength*unit_r\r\n",
    "        oldThetaVelocity = orb[i].v - np.dot(orb[i].v, unit_r)*unit_r\r\n",
    "        newThetaVelocity = old_radius/(old_radius + kickStrength)*oldThetaVelocity\r\n",
    "        newVelocity = np.dot(orb[i].v, unit_r)*unit_r + newThetaVelocity\r\n",
    "        orb[i] = Orbit.from_vectors(GM, newPosition, newVelocity)\r\n",
    "        belt.a[i] = orb[i].a\r\n",
    "        belt.ecc[i] = orb[i].ecc\r\n",
    "        belt.inc[i] = orb[i].inc\r\n",
    "        belt.Omega[i] = orb[i].raan\r\n",
    "        belt.w[i] = orb[i].argp\r\n",
    "        belt.M[i] = PA.core.angles.E_to_M(PA.core.angles.nu_to_E(orb[i].nu, orb[i].ecc), orb[i].ecc)*u.rad\r\n",
    "        new_r_0 = orb[i].a*(1 - np.square(orb[i].ecc))\r\n",
    "        if old_r_0 - new_r_0 > 10**-12*u.km:\r\n",
    "            print(\"L_2 before and after do not match: \", old_r_0, \"\\t\", new_r_0)\r\n",
    "        if orb[i].energy >= 0:\r\n",
    "            print(orb[i], \" is not a bound orbit.\")\r\n",
    "        if (orb[i].r != newPosition).any():\r\n",
    "            print(\"r got missassigned.\")\r\n",
    "#         if (np.linalg.norm(orb[i].r) > old_radius):\r\n",
    "#             print(\"The new radius is greater than the original.\", np.linalg.norm(orb[i].r), old_radius)\r\n",
    "#             print(orb[i].r, old_radius)\r\n",
    "#             print(\"Radius should be\",np.linalg.norm(newPosition) )"
   ],
   "outputs": [],
   "metadata": {}
  },
  {
   "cell_type": "code",
   "execution_count": null,
   "source": [
    "gpuStart = time_pkg.time()\r\n",
    "radiuses[:,dipole_step:quad_step], velocities[:,dipole_step:quad_step], final_mean_anamoly = propagate(belt, quad_time-dipole_time, timestep)\r\n",
    "gpuEnd = time_pkg.time()\r\n",
    "belt.setMeanAnamoly(final_mean_anamoly)\r\n",
    "astroEnd = time_pkg.time()\r\n",
    "\r\n",
    "print(\"GPU Time: \", gpuEnd-gpuStart, \" Astro Time: \", astroEnd-gpuEnd)"
   ],
   "outputs": [],
   "metadata": {}
  },
  {
   "cell_type": "code",
   "execution_count": null,
   "source": [
    "avr_radius[dipole_step:quad_step] = average_scaler(radiuses, start=dipole_step, end=quad_step)"
   ],
   "outputs": [],
   "metadata": {}
  },
  {
   "cell_type": "code",
   "execution_count": null,
   "source": [
    "plt.plot(time[0:quad_step], avr_radius[0:quad_step])"
   ],
   "outputs": [],
   "metadata": {}
  },
  {
   "cell_type": "code",
   "execution_count": null,
   "source": [
    "unit_r = np.empty(3) \r\n",
    "newR = np.empty(3)\r\n",
    "\r\n",
    "for i in range(0, belt.size):\r\n",
    "    orb[i] = Orbit.from_classical(GM, belt.a[i], belt.ecc[i], belt.inc[i], belt.Omega[i], belt.w[i], PA.core.angles.E_to_nu(PA.core.angles.E_to_M(belt.M[i], belt.ecc[i]), belt.ecc[i])*u.rad)\r\n",
    "\r\n",
    "quad_strength = 0.35 * u.second**-1\r\n",
    "radius_offset = r_0\r\n",
    "\r\n",
    "for i in range(0, size):\r\n",
    "        if orb[i].energy >= 0:\r\n",
    "            print(orb[i], \" is ALREADY not a bound orbit BEFORE KICKING.\")\r\n",
    "        old_radius = np.linalg.norm(orb[i].r)\r\n",
    "        unit_r = orb[i].r/old_radius\r\n",
    "        newVelocity = orb[i].v + quad_strength*(old_radius - radius_offset)*unit_r\r\n",
    "        orb[i] = Orbit.from_vectors(GM, orb[i].r, newVelocity)\r\n",
    "        belt.a[i] = orb[i].a\r\n",
    "        belt.ecc[i] = orb[i].ecc\r\n",
    "        belt.inc[i] = orb[i].inc\r\n",
    "        belt.Omega[i] = orb[i].raan\r\n",
    "        belt.w[i] = orb[i].argp\r\n",
    "        belt.M[i] = PA.core.angles.E_to_M(PA.core.angles.nu_to_E(orb[i].nu, orb[i].ecc), orb[i].ecc)*u.rad\r\n",
    "        if orb[i].energy >= 0:\r\n",
    "            print(orb[i], \" is not a bound orbit.\")\r\n",
    "#         if (np.linalg.norm(orb[i].r) > old_radius):\r\n",
    "#             print(\"The new radius is greater than the original.\", np.linalg.norm(orb[i].r), old_radius)\r\n",
    "#             print(orb[i].r, old_radius)\r\n",
    "#             print(\"Radius should be\",np.linalg.norm(newPosition) )"
   ],
   "outputs": [],
   "metadata": {}
  },
  {
   "cell_type": "code",
   "execution_count": null,
   "source": [
    "gpuStart = time_pkg.time()\n",
    "radiuses[:,quad_step:end_step], velocities[:,quad_step:end_step], final_mean_anamoly = propagate(belt, end_time - quad_time, timestep)\n",
    "gpuEnd = time_pkg.time()\n",
    "belt.setMeanAnamoly(final_mean_anamoly)\n",
    "astroEnd = time_pkg.time()\n",
    "\n",
    "print(\"GPU Time: \", gpuEnd-gpuStart, \" Astro Time: \", astroEnd-gpuEnd)"
   ],
   "outputs": [],
   "metadata": {}
  },
  {
   "cell_type": "code",
   "execution_count": null,
   "source": [
    "avr_radius[quad_step:end_step] = average_scaler(radiuses, start=quad_step, end=end_step)"
   ],
   "outputs": [],
   "metadata": {}
  },
  {
   "cell_type": "code",
   "execution_count": null,
   "source": [
    "plt.plot(time[0:end_step], avr_radius[0:end_step])"
   ],
   "outputs": [],
   "metadata": {}
  },
  {
   "cell_type": "code",
   "execution_count": null,
   "source": [],
   "outputs": [],
   "metadata": {}
  }
 ],
 "metadata": {
  "kernelspec": {
   "name": "python3",
   "display_name": "Python 3.8.8 64-bit ('base': conda)"
  },
  "language_info": {
   "codemirror_mode": {
    "name": "ipython",
    "version": 3
   },
   "file_extension": ".py",
   "mimetype": "text/x-python",
   "name": "python",
   "nbconvert_exporter": "python",
   "pygments_lexer": "ipython3",
   "version": "3.8.8"
  },
  "interpreter": {
   "hash": "5c35d6aa68439073e2788da87ac3032bf0abd20051ab209533874a6e9169cab4"
  }
 },
 "nbformat": 4,
 "nbformat_minor": 5
}