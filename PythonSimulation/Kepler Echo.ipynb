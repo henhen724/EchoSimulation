{
 "cells": [
  {
   "cell_type": "code",
   "execution_count": 1,
   "id": "5162d402",
   "metadata": {},
   "outputs": [],
   "source": [
    "import poliastro as PA\n",
    "import numpy as np\n",
    "import matplotlib.pyplot as plt\n",
    "import time as time_pkg\n",
    "\n",
    "from astropy import units as u\n",
    "\n",
    "from poliastro.bodies import Earth, Body\n",
    "from poliastro.twobody import Orbit\n",
    "from poliastro.examples import iss\n",
    "\n",
    "from scipy.stats import expon, uniform, norm, triang\n",
    "from scipy.special import comb\n",
    "\n",
    "from lib.GPUKeplerSimulation import propagate, average_scaler, average_3vector, M_to_E, E_to_nu\n",
    "from lib.DisplaySimulation import displaySimulation"
   ]
  },
  {
   "cell_type": "code",
   "execution_count": 2,
   "id": "69721825",
   "metadata": {},
   "outputs": [],
   "source": [
    "# Exponential Distribution\n",
    "size = 100\n",
    "\n",
    "J_1 = expon.rvs(scale=1, loc=0.0, size=size)\n",
    "\n",
    "exponential_var2 = expon.rvs(scale=0.01, loc=0, size=size)\n",
    "J_2 = J_1 - exponential_var2\n",
    "\n",
    "for i in range(0,size):\n",
    "    if J_2[i] < 0.0:\n",
    "        J_2[i] = 0.0001\n",
    "\n",
    "exponential_var3 = expon.rvs(scale=0.1, loc=0, size=size)\n",
    "J_3 = J_2 - exponential_var3\n",
    "\n",
    "for i in range(0,size):\n",
    "    if J_3[i] < -J_2[i]:\n",
    "        J_3[i] = -J_2[i]\n",
    "\n",
    "M = uniform.rvs(loc = -np.pi, scale = np.pi, size=size) * u.rad\n",
    "w = uniform.rvs(loc = -np.pi, scale = np.pi, size=size) * u.rad\n",
    "Omega = uniform.rvs(loc = -np.pi, scale = np.pi, size=size) * u.rad"
   ]
  },
  {
   "cell_type": "code",
   "execution_count": 3,
   "id": "83452ce3",
   "metadata": {},
   "outputs": [],
   "source": [
    "# Near Circular Distribution\n",
    "size = 500\n",
    "r_0 = 1*u.km\n",
    "sigma_e = 0.01*np.sqrt(1*u.km)\n",
    "sigma_a = 0.000*np.sqrt(1*u.km)\n",
    "alpha_over_m = 1*u.km**3/u.s**2 \n",
    "\n",
    "\n",
    "expvar1 = expon.rvs(scale=sigma_e, loc=0, size=size)*np.sqrt(1*u.km)\n",
    "\n",
    "#J_2 = expon.norm(scale=sigma_a, loc=r_0, size=size)\n",
    "J_2 = np.repeat(np.sqrt(r_0), size)\n",
    "\n",
    "J_1 = expvar1 + J_2\n",
    "J_3 = J_2\n",
    "\n",
    "M = uniform.rvs(loc = 0, scale = 2*np.pi, size=size) * u.rad\n",
    "w = uniform.rvs(loc = 0, scale = 2*np.pi, size=size) * u.rad\n",
    "Omega = np.repeat(0.0, size) * u.rad"
   ]
  },
  {
   "cell_type": "code",
   "execution_count": 2,
   "id": "6e2d06cb",
   "metadata": {},
   "outputs": [],
   "source": [
    "# Near SHO Distribution\n",
    "# Here I'm setting J_SHO = sqrt(ma^3/2k) * (p^2/2m + k/a^3*x^2)\n",
    "# This leads to J_SHO = sqrt(ka/2)e^2 = sqrt(k/2)(J_1 - J_2^2/J_1)\n",
    "# Then im distributing particles according to exp{- J_SHO/epsilon}\n",
    "\n",
    "size = 20000\n",
    "r_0 = 0.05*u.km\n",
    "epsilon = 0.0000001*u.kg*u.km**2/u.s\n",
    "k = 0.00112*u.kg*u.km**3/u.s**2 \n",
    "m = 0.1*u.kg\n",
    "\n",
    "J_SHO = expon.rvs(scale=epsilon, loc=0, size=size)*1*u.kg*u.km**2/u.s\n",
    "\n",
    "#J_2 = expon.norm(scale=sigma_a, loc=r_0, size=size)\n",
    "J_2 = np.repeat(np.sqrt(r_0), size)\n",
    "\n",
    "J_1 = (J_SHO + np.sqrt(np.power(J_SHO, 2) + 4*k*m*np.power(J_2, 2)))/(2.0*np.sqrt(k*m))\n",
    "J_3 = J_2\n",
    "\n",
    "M = uniform.rvs(loc = -2*np.pi, scale = 2*np.pi, size=size) * u.rad\n",
    "w = uniform.rvs(loc = 0, scale = 2*np.pi, size=size) * u.rad\n",
    "Omega = np.repeat(0.0, size) * u.rad"
   ]
  },
  {
   "cell_type": "code",
   "execution_count": 3,
   "id": "f5dab352",
   "metadata": {},
   "outputs": [
    {
     "name": "stdout",
     "output_type": "stream",
     "text": [
      "Omega_0:  9.465727652959384 1 / s\n",
      "Omega_prime:  -5999.999999999998 1 / (kg km2)\n",
      "Decoherance Time:  -10471.97551196598 s\n"
     ]
    }
   ],
   "source": [
    "omega = np.sqrt(k/m)/np.power(r_0, 3.0/2.0)\n",
    "omega_prime = -3/(2*m*np.power(r_0, 2.0))\n",
    "print(\"Omega_0: \", omega)\n",
    "print(\"Omega_prime: \", omega_prime)\n",
    "print(\"Decoherance Time: \", 2*np.pi/(omega_prime*epsilon))\n",
    "\n",
    "# average_radius = 3*sigma_e**2 + 3*sigma_e*sigma_a + 3*sigma_e*np.sqrt(r_0) + 2*sigma_a**2 + 2*sigma_a*np.sqrt(r_0) + r_0\n",
    "# print(\"Inital average radius: \", average_radius)"
   ]
  },
  {
   "cell_type": "code",
   "execution_count": 3,
   "id": "9b3f002e",
   "metadata": {},
   "outputs": [],
   "source": [
    "a = np.square(J_1)\n",
    "ecc = np.sqrt(1 - np.square(J_2/J_1)) * u.one\n",
    "inc = np.arccos(J_3/J_2)\n",
    "\n",
    "GM = Body(None, k/m, \"Central Body\")"
   ]
  },
  {
   "cell_type": "code",
   "execution_count": 4,
   "id": "691d2ba6",
   "metadata": {},
   "outputs": [],
   "source": [
    "class AsteriodBelt:\n",
    "    size = 0\n",
    "    micro = 1*u.km**3/u.s**2\n",
    "    a = np.array([])*u.km\n",
    "    ecc = np.array([])*u.one\n",
    "    inc = np.array([])*u.rad\n",
    "    Omega = np.array([])*u.rad\n",
    "    w = np.array([])*u.rad\n",
    "    M = np.array([])*u.rad\n",
    "    def __init__(self, _size, _micro, _a, _ecc, _inc, _Omega, _w, _M):\n",
    "        self.size = _size\n",
    "        self.micro = _micro\n",
    "        self.a = _a\n",
    "        self.ecc = _ecc\n",
    "        self.inc = _inc\n",
    "        self.Omega = _Omega\n",
    "        self.w = _w\n",
    "        self.M = _M\n",
    "        \n",
    "    def setMeanAnamoly(self, _M):\n",
    "        self.M = _M"
   ]
  },
  {
   "cell_type": "code",
   "execution_count": 5,
   "id": "a3297afa",
   "metadata": {},
   "outputs": [],
   "source": [
    "belt = AsteriodBelt(size, k/m, a, ecc, inc, Omega, w, M)"
   ]
  },
  {
   "cell_type": "code",
   "execution_count": 6,
   "id": "96d31cae",
   "metadata": {},
   "outputs": [],
   "source": [
    "timestep = 0.1*u.second\n",
    "\n",
    "time_before_kick = 300*u.second\n",
    "time_after_kick = 1000*u.second\n",
    "time_after_quad_kick = 1300*u.second\n",
    "\n",
    "dipole_time = time_before_kick\n",
    "quad_time = time_before_kick + time_after_kick\n",
    "end_time = time_before_kick + time_after_kick + time_after_quad_kick\n",
    "\n",
    "dipole_step = int(dipole_time/timestep)\n",
    "quad_step = int(quad_time/timestep)\n",
    "end_step = int(end_time/timestep)\n",
    "\n",
    "\n",
    "time = np.linspace(0.0*u.second, end_time, end_step)\n",
    "\n",
    "avr_radius = np.zeros(end_step) * u.km\n",
    "\n",
    "radiuses = np.zeros((size, end_step)) * u.km\n",
    "velocities = np.zeros((size, end_step)) * u.km/u.s"
   ]
  },
  {
   "cell_type": "code",
   "execution_count": 7,
   "id": "2dd19f88",
   "metadata": {},
   "outputs": [
    {
     "name": "stdout",
     "output_type": "stream",
     "text": [
      "GPU memory size:  6871580672\n",
      "Running  6  memory frames\n",
      "M's shape is  (20000, 536) . e's shape is  (20000,)\n",
      "M's shape is  (20000, 536) . e's shape is  (20000,)\n",
      "M's shape is  (20000, 536) . e's shape is  (20000,)\n",
      "M's shape is  (20000, 536) . e's shape is  (20000,)\n",
      "M's shape is  (20000, 536) . e's shape is  (20000,)\n",
      "M's shape is  (20000, 320) . e's shape is  (20000,)\n",
      "GPU Time:  2.709498167037964  Astro Time:  0.0\n"
     ]
    }
   ],
   "source": [
    "gpuStart = time_pkg.time()\n",
    "radiuses[:,0:dipole_step], velocities[:,0:dipole_step], final_mean_anamoly = propagate(belt, dipole_time, timestep)\n",
    "gpuEnd = time_pkg.time()\n",
    "belt.setMeanAnamoly(final_mean_anamoly)\n",
    "astroEnd = time_pkg.time()\n",
    "\n",
    "print(\"GPU Time: \", gpuEnd-gpuStart, \" Astro Time: \", astroEnd-gpuEnd)"
   ]
  },
  {
   "cell_type": "code",
   "execution_count": 8,
   "id": "c3b9a541",
   "metadata": {},
   "outputs": [],
   "source": [
    "avr_radius[0:dipole_step] = average_scaler(radiuses, end=dipole_step)"
   ]
  },
  {
   "cell_type": "code",
   "execution_count": 9,
   "id": "b72138db",
   "metadata": {},
   "outputs": [
    {
     "data": {
      "text/plain": [
       "[<matplotlib.lines.Line2D at 0x1eb45379e20>]"
      ]
     },
     "execution_count": 9,
     "metadata": {},
     "output_type": "execute_result"
    },
    {
     "data": {
      "image/png": "[encoded data removed]",
      "text/plain": [
       "<Figure size 432x288 with 1 Axes>"
      ]
     },
     "metadata": {
      "needs_background": "light"
     },
     "output_type": "display_data"
    }
   ],
   "source": [
    "plt.plot(time[0:dipole_step], avr_radius[0:dipole_step])"
   ]
  },
  {
   "cell_type": "code",
   "execution_count": 15,
   "id": "60ca4ad1",
   "metadata": {},
   "outputs": [
    {
     "name": "stdout",
     "output_type": "stream",
     "text": [
      "M's shape is  (20000, 1) . e's shape is  (20000,)\n"
     ]
    },
    {
     "ename": "UnitConversionError",
     "evalue": "'km3 / s2' and '' (dimensionless) are not convertible",
     "output_type": "error",
     "traceback": [
      "\u001b[1;31m---------------------------------------------------------------------------\u001b[0m",
      "\u001b[1;31mUnitConversionError\u001b[0m                       Traceback (most recent call last)",
      "\u001b[1;32m~\\AppData\\Local\\Programs\\Python\\Python39\\lib\\site-packages\\astropy\\units\\quantity.py\u001b[0m in \u001b[0;36mto_value\u001b[1;34m(self, unit, equivalencies)\u001b[0m\n\u001b[0;32m    746\u001b[0m             \u001b[1;32mtry\u001b[0m\u001b[1;33m:\u001b[0m\u001b[1;33m\u001b[0m\u001b[1;33m\u001b[0m\u001b[0m\n\u001b[1;32m--> 747\u001b[1;33m                 \u001b[0mscale\u001b[0m \u001b[1;33m=\u001b[0m \u001b[0mself\u001b[0m\u001b[1;33m.\u001b[0m\u001b[0munit\u001b[0m\u001b[1;33m.\u001b[0m\u001b[0m_to\u001b[0m\u001b[1;33m(\u001b[0m\u001b[0munit\u001b[0m\u001b[1;33m)\u001b[0m\u001b[1;33m\u001b[0m\u001b[1;33m\u001b[0m\u001b[0m\n\u001b[0m\u001b[0;32m    748\u001b[0m             \u001b[1;32mexcept\u001b[0m \u001b[0mException\u001b[0m\u001b[1;33m:\u001b[0m\u001b[1;33m\u001b[0m\u001b[1;33m\u001b[0m\u001b[0m\n",
      "\u001b[1;32m~\\AppData\\Local\\Programs\\Python\\Python39\\lib\\site-packages\\astropy\\units\\core.py\u001b[0m in \u001b[0;36m_to\u001b[1;34m(self, other)\u001b[0m\n\u001b[0;32m   1095\u001b[0m \u001b[1;33m\u001b[0m\u001b[0m\n\u001b[1;32m-> 1096\u001b[1;33m         raise UnitConversionError(\n\u001b[0m\u001b[0;32m   1097\u001b[0m             f\"'{self!r}' is not a scaled version of '{other!r}'\")\n",
      "\u001b[1;31mUnitConversionError\u001b[0m: 'Unit(\"km3 / s2\")' is not a scaled version of 'Unit(dimensionless)'",
      "\nDuring handling of the above exception, another exception occurred:\n",
      "\u001b[1;31mUnitConversionError\u001b[0m                       Traceback (most recent call last)",
      "\u001b[1;32m<ipython-input-15-10c10fe3e467>\u001b[0m in \u001b[0;36m<module>\u001b[1;34m\u001b[0m\n\u001b[0;32m      4\u001b[0m \u001b[0mnu\u001b[0m \u001b[1;33m=\u001b[0m \u001b[0mE_to_nu\u001b[0m\u001b[1;33m(\u001b[0m\u001b[0mM_to_E\u001b[0m\u001b[1;33m(\u001b[0m\u001b[0mnp\u001b[0m\u001b[1;33m.\u001b[0m\u001b[0marray\u001b[0m\u001b[1;33m(\u001b[0m\u001b[1;33m[\u001b[0m\u001b[0mbelt\u001b[0m\u001b[1;33m.\u001b[0m\u001b[0mM\u001b[0m\u001b[1;33m.\u001b[0m\u001b[0mto\u001b[0m\u001b[1;33m(\u001b[0m\u001b[0mu\u001b[0m\u001b[1;33m.\u001b[0m\u001b[0mrad\u001b[0m\u001b[1;33m)\u001b[0m\u001b[1;33m.\u001b[0m\u001b[0mvalue\u001b[0m\u001b[1;33m]\u001b[0m\u001b[1;33m)\u001b[0m\u001b[1;33m.\u001b[0m\u001b[0mT\u001b[0m\u001b[1;33m,\u001b[0m \u001b[0mbelt\u001b[0m\u001b[1;33m.\u001b[0m\u001b[0mecc\u001b[0m\u001b[1;33m.\u001b[0m\u001b[0mvalue\u001b[0m\u001b[1;33m,\u001b[0m \u001b[0mnumpyOutput\u001b[0m\u001b[1;33m=\u001b[0m\u001b[1;32mTrue\u001b[0m\u001b[1;33m)\u001b[0m\u001b[1;33m,\u001b[0m \u001b[0mbelt\u001b[0m\u001b[1;33m.\u001b[0m\u001b[0mecc\u001b[0m\u001b[1;33m.\u001b[0m\u001b[0mvalue\u001b[0m\u001b[1;33m,\u001b[0m \u001b[0mnumpyOutput\u001b[0m\u001b[1;33m=\u001b[0m\u001b[1;32mTrue\u001b[0m\u001b[1;33m)\u001b[0m\u001b[1;33m\u001b[0m\u001b[1;33m\u001b[0m\u001b[0m\n\u001b[0;32m      5\u001b[0m \u001b[1;33m\u001b[0m\u001b[0m\n\u001b[1;32m----> 6\u001b[1;33m \u001b[0mpositions\u001b[0m\u001b[1;33m,\u001b[0m \u001b[0mvelocities\u001b[0m \u001b[1;33m=\u001b[0m \u001b[0mPA\u001b[0m\u001b[1;33m.\u001b[0m\u001b[0mcore\u001b[0m\u001b[1;33m.\u001b[0m\u001b[0melements\u001b[0m\u001b[1;33m.\u001b[0m\u001b[0mcoe2rv_many\u001b[0m\u001b[1;33m(\u001b[0m\u001b[0mnp\u001b[0m\u001b[1;33m.\u001b[0m\u001b[0mfull\u001b[0m\u001b[1;33m(\u001b[0m\u001b[0mbelt\u001b[0m\u001b[1;33m.\u001b[0m\u001b[0msize\u001b[0m\u001b[1;33m,\u001b[0m \u001b[0mbelt\u001b[0m\u001b[1;33m.\u001b[0m\u001b[0mmicro\u001b[0m\u001b[1;33m)\u001b[0m\u001b[1;33m*\u001b[0m\u001b[0mu\u001b[0m\u001b[1;33m.\u001b[0m\u001b[0mkm\u001b[0m\u001b[1;33m**\u001b[0m\u001b[1;36m3\u001b[0m\u001b[1;33m/\u001b[0m\u001b[0mu\u001b[0m\u001b[1;33m.\u001b[0m\u001b[0ms\u001b[0m\u001b[1;33m**\u001b[0m\u001b[1;36m2\u001b[0m\u001b[1;33m,\u001b[0m \u001b[1;33m(\u001b[0m\u001b[0mbelt\u001b[0m\u001b[1;33m.\u001b[0m\u001b[0ma\u001b[0m\u001b[1;33m*\u001b[0m\u001b[1;33m(\u001b[0m\u001b[1;36m1\u001b[0m\u001b[1;33m-\u001b[0m\u001b[0mnp\u001b[0m\u001b[1;33m.\u001b[0m\u001b[0msquare\u001b[0m\u001b[1;33m(\u001b[0m\u001b[0mbelt\u001b[0m\u001b[1;33m.\u001b[0m\u001b[0mecc\u001b[0m\u001b[1;33m)\u001b[0m\u001b[1;33m)\u001b[0m\u001b[1;33m)\u001b[0m\u001b[1;33m.\u001b[0m\u001b[0mto\u001b[0m\u001b[1;33m(\u001b[0m\u001b[1;34m\"km\"\u001b[0m\u001b[1;33m)\u001b[0m\u001b[1;33m.\u001b[0m\u001b[0mvalue\u001b[0m\u001b[1;33m,\u001b[0m \u001b[0mbelt\u001b[0m\u001b[1;33m.\u001b[0m\u001b[0mecc\u001b[0m\u001b[1;33m.\u001b[0m\u001b[0mvalue\u001b[0m\u001b[1;33m,\u001b[0m \u001b[0mbelt\u001b[0m\u001b[1;33m.\u001b[0m\u001b[0minc\u001b[0m\u001b[1;33m.\u001b[0m\u001b[0mto\u001b[0m\u001b[1;33m(\u001b[0m\u001b[1;34m\"rad\"\u001b[0m\u001b[1;33m)\u001b[0m\u001b[1;33m.\u001b[0m\u001b[0mvalue\u001b[0m\u001b[1;33m,\u001b[0m \u001b[0mbelt\u001b[0m\u001b[1;33m.\u001b[0m\u001b[0mOmega\u001b[0m\u001b[1;33m.\u001b[0m\u001b[0mto\u001b[0m\u001b[1;33m(\u001b[0m\u001b[1;34m\"rad\"\u001b[0m\u001b[1;33m)\u001b[0m\u001b[1;33m.\u001b[0m\u001b[0mvalue\u001b[0m\u001b[1;33m,\u001b[0m \u001b[0mbelt\u001b[0m\u001b[1;33m.\u001b[0m\u001b[0mw\u001b[0m\u001b[1;33m.\u001b[0m\u001b[0mto\u001b[0m\u001b[1;33m(\u001b[0m\u001b[1;34m\"rad\"\u001b[0m\u001b[1;33m)\u001b[0m\u001b[1;33m.\u001b[0m\u001b[0mvalue\u001b[0m\u001b[1;33m,\u001b[0m \u001b[0mnu\u001b[0m\u001b[1;33m.\u001b[0m\u001b[0mto\u001b[0m\u001b[1;33m(\u001b[0m\u001b[1;34m\"rad\"\u001b[0m\u001b[1;33m)\u001b[0m\u001b[1;33m.\u001b[0m\u001b[0mvalue\u001b[0m\u001b[1;33m)\u001b[0m\u001b[1;33m\u001b[0m\u001b[1;33m\u001b[0m\u001b[0m\n\u001b[0m\u001b[0;32m      7\u001b[0m \u001b[1;33m\u001b[0m\u001b[0m\n\u001b[0;32m      8\u001b[0m \u001b[0mkickStrength\u001b[0m \u001b[1;33m=\u001b[0m \u001b[1;36m0.001\u001b[0m\u001b[1;33m*\u001b[0m\u001b[0mu\u001b[0m\u001b[1;33m.\u001b[0m\u001b[0mkm\u001b[0m\u001b[1;33m\u001b[0m\u001b[1;33m\u001b[0m\u001b[0m\n",
      "\u001b[1;32m~\\AppData\\Local\\Programs\\Python\\Python39\\lib\\site-packages\\numpy\\core\\numeric.py\u001b[0m in \u001b[0;36mfull\u001b[1;34m(shape, fill_value, dtype, order)\u001b[0m\n\u001b[0;32m    313\u001b[0m         \u001b[0mdtype\u001b[0m \u001b[1;33m=\u001b[0m \u001b[0marray\u001b[0m\u001b[1;33m(\u001b[0m\u001b[0mfill_value\u001b[0m\u001b[1;33m)\u001b[0m\u001b[1;33m.\u001b[0m\u001b[0mdtype\u001b[0m\u001b[1;33m\u001b[0m\u001b[1;33m\u001b[0m\u001b[0m\n\u001b[0;32m    314\u001b[0m     \u001b[0ma\u001b[0m \u001b[1;33m=\u001b[0m \u001b[0mempty\u001b[0m\u001b[1;33m(\u001b[0m\u001b[0mshape\u001b[0m\u001b[1;33m,\u001b[0m \u001b[0mdtype\u001b[0m\u001b[1;33m,\u001b[0m \u001b[0morder\u001b[0m\u001b[1;33m)\u001b[0m\u001b[1;33m\u001b[0m\u001b[1;33m\u001b[0m\u001b[0m\n\u001b[1;32m--> 315\u001b[1;33m     \u001b[0mmultiarray\u001b[0m\u001b[1;33m.\u001b[0m\u001b[0mcopyto\u001b[0m\u001b[1;33m(\u001b[0m\u001b[0ma\u001b[0m\u001b[1;33m,\u001b[0m \u001b[0mfill_value\u001b[0m\u001b[1;33m,\u001b[0m \u001b[0mcasting\u001b[0m\u001b[1;33m=\u001b[0m\u001b[1;34m'unsafe'\u001b[0m\u001b[1;33m)\u001b[0m\u001b[1;33m\u001b[0m\u001b[1;33m\u001b[0m\u001b[0m\n\u001b[0m\u001b[0;32m    316\u001b[0m     \u001b[1;32mreturn\u001b[0m \u001b[0ma\u001b[0m\u001b[1;33m\u001b[0m\u001b[1;33m\u001b[0m\u001b[0m\n\u001b[0;32m    317\u001b[0m \u001b[1;33m\u001b[0m\u001b[0m\n",
      "\u001b[1;32m<__array_function__ internals>\u001b[0m in \u001b[0;36mcopyto\u001b[1;34m(*args, **kwargs)\u001b[0m\n",
      "\u001b[1;32m~\\AppData\\Local\\Programs\\Python\\Python39\\lib\\site-packages\\astropy\\units\\quantity.py\u001b[0m in \u001b[0;36m__array_function__\u001b[1;34m(self, function, types, args, kwargs)\u001b[0m\n\u001b[0;32m   1523\u001b[0m             \u001b[0mfunction_helper\u001b[0m \u001b[1;33m=\u001b[0m \u001b[0mFUNCTION_HELPERS\u001b[0m\u001b[1;33m[\u001b[0m\u001b[0mfunction\u001b[0m\u001b[1;33m]\u001b[0m\u001b[1;33m\u001b[0m\u001b[1;33m\u001b[0m\u001b[0m\n\u001b[0;32m   1524\u001b[0m             \u001b[1;32mtry\u001b[0m\u001b[1;33m:\u001b[0m\u001b[1;33m\u001b[0m\u001b[1;33m\u001b[0m\u001b[0m\n\u001b[1;32m-> 1525\u001b[1;33m                 \u001b[0margs\u001b[0m\u001b[1;33m,\u001b[0m \u001b[0mkwargs\u001b[0m\u001b[1;33m,\u001b[0m \u001b[0munit\u001b[0m\u001b[1;33m,\u001b[0m \u001b[0mout\u001b[0m \u001b[1;33m=\u001b[0m \u001b[0mfunction_helper\u001b[0m\u001b[1;33m(\u001b[0m\u001b[1;33m*\u001b[0m\u001b[0margs\u001b[0m\u001b[1;33m,\u001b[0m \u001b[1;33m**\u001b[0m\u001b[0mkwargs\u001b[0m\u001b[1;33m)\u001b[0m\u001b[1;33m\u001b[0m\u001b[1;33m\u001b[0m\u001b[0m\n\u001b[0m\u001b[0;32m   1526\u001b[0m             \u001b[1;32mexcept\u001b[0m \u001b[0mNotImplementedError\u001b[0m\u001b[1;33m:\u001b[0m\u001b[1;33m\u001b[0m\u001b[1;33m\u001b[0m\u001b[0m\n\u001b[0;32m   1527\u001b[0m                 \u001b[1;32mreturn\u001b[0m \u001b[0mself\u001b[0m\u001b[1;33m.\u001b[0m\u001b[0m_not_implemented_or_raise\u001b[0m\u001b[1;33m(\u001b[0m\u001b[0mfunction\u001b[0m\u001b[1;33m,\u001b[0m \u001b[0mtypes\u001b[0m\u001b[1;33m)\u001b[0m\u001b[1;33m\u001b[0m\u001b[1;33m\u001b[0m\u001b[0m\n",
      "\u001b[1;32m~\\AppData\\Local\\Programs\\Python\\Python39\\lib\\site-packages\\astropy\\units\\quantity_helper\\function_helpers.py\u001b[0m in \u001b[0;36mcopyto\u001b[1;34m(dst, src, *args, **kwargs)\u001b[0m\n\u001b[0;32m    271\u001b[0m                 kwargs, None, None)\n\u001b[0;32m    272\u001b[0m     \u001b[1;32melif\u001b[0m \u001b[0misinstance\u001b[0m\u001b[1;33m(\u001b[0m\u001b[0msrc\u001b[0m\u001b[1;33m,\u001b[0m \u001b[0mQuantity\u001b[0m\u001b[1;33m)\u001b[0m\u001b[1;33m:\u001b[0m\u001b[1;33m\u001b[0m\u001b[1;33m\u001b[0m\u001b[0m\n\u001b[1;32m--> 273\u001b[1;33m         return ((dst,  src.to_value(dimensionless_unscaled)) + args,\n\u001b[0m\u001b[0;32m    274\u001b[0m                 kwargs, None, None)\n\u001b[0;32m    275\u001b[0m     \u001b[1;32melse\u001b[0m\u001b[1;33m:\u001b[0m\u001b[1;33m\u001b[0m\u001b[1;33m\u001b[0m\u001b[0m\n",
      "\u001b[1;32m~\\AppData\\Local\\Programs\\Python\\Python39\\lib\\site-packages\\astropy\\units\\quantity.py\u001b[0m in \u001b[0;36mto_value\u001b[1;34m(self, unit, equivalencies)\u001b[0m\n\u001b[0;32m    748\u001b[0m             \u001b[1;32mexcept\u001b[0m \u001b[0mException\u001b[0m\u001b[1;33m:\u001b[0m\u001b[1;33m\u001b[0m\u001b[1;33m\u001b[0m\u001b[0m\n\u001b[0;32m    749\u001b[0m                 \u001b[1;31m# Short-cut failed; try default (maybe equivalencies help).\u001b[0m\u001b[1;33m\u001b[0m\u001b[1;33m\u001b[0m\u001b[1;33m\u001b[0m\u001b[0m\n\u001b[1;32m--> 750\u001b[1;33m                 \u001b[0mvalue\u001b[0m \u001b[1;33m=\u001b[0m \u001b[0mself\u001b[0m\u001b[1;33m.\u001b[0m\u001b[0m_to_value\u001b[0m\u001b[1;33m(\u001b[0m\u001b[0munit\u001b[0m\u001b[1;33m,\u001b[0m \u001b[0mequivalencies\u001b[0m\u001b[1;33m)\u001b[0m\u001b[1;33m\u001b[0m\u001b[1;33m\u001b[0m\u001b[0m\n\u001b[0m\u001b[0;32m    751\u001b[0m             \u001b[1;32melse\u001b[0m\u001b[1;33m:\u001b[0m\u001b[1;33m\u001b[0m\u001b[1;33m\u001b[0m\u001b[0m\n\u001b[0;32m    752\u001b[0m                 \u001b[0mvalue\u001b[0m \u001b[1;33m=\u001b[0m \u001b[0mself\u001b[0m\u001b[1;33m.\u001b[0m\u001b[0mview\u001b[0m\u001b[1;33m(\u001b[0m\u001b[0mnp\u001b[0m\u001b[1;33m.\u001b[0m\u001b[0mndarray\u001b[0m\u001b[1;33m)\u001b[0m\u001b[1;33m\u001b[0m\u001b[1;33m\u001b[0m\u001b[0m\n",
      "\u001b[1;32m~\\AppData\\Local\\Programs\\Python\\Python39\\lib\\site-packages\\astropy\\units\\quantity.py\u001b[0m in \u001b[0;36m_to_value\u001b[1;34m(self, unit, equivalencies)\u001b[0m\n\u001b[0;32m    667\u001b[0m         \u001b[1;32mif\u001b[0m \u001b[0mequivalencies\u001b[0m \u001b[1;33m==\u001b[0m \u001b[1;33m[\u001b[0m\u001b[1;33m]\u001b[0m\u001b[1;33m:\u001b[0m\u001b[1;33m\u001b[0m\u001b[1;33m\u001b[0m\u001b[0m\n\u001b[0;32m    668\u001b[0m             \u001b[0mequivalencies\u001b[0m \u001b[1;33m=\u001b[0m \u001b[0mself\u001b[0m\u001b[1;33m.\u001b[0m\u001b[0m_equivalencies\u001b[0m\u001b[1;33m\u001b[0m\u001b[1;33m\u001b[0m\u001b[0m\n\u001b[1;32m--> 669\u001b[1;33m         return self.unit.to(unit, self.view(np.ndarray),\n\u001b[0m\u001b[0;32m    670\u001b[0m                             equivalencies=equivalencies)\n\u001b[0;32m    671\u001b[0m \u001b[1;33m\u001b[0m\u001b[0m\n",
      "\u001b[1;32m~\\AppData\\Local\\Programs\\Python\\Python39\\lib\\site-packages\\astropy\\units\\core.py\u001b[0m in \u001b[0;36mto\u001b[1;34m(self, other, value, equivalencies)\u001b[0m\n\u001b[0;32m   1131\u001b[0m             \u001b[1;32mreturn\u001b[0m \u001b[0mUNITY\u001b[0m\u001b[1;33m\u001b[0m\u001b[1;33m\u001b[0m\u001b[0m\n\u001b[0;32m   1132\u001b[0m         \u001b[1;32melse\u001b[0m\u001b[1;33m:\u001b[0m\u001b[1;33m\u001b[0m\u001b[1;33m\u001b[0m\u001b[0m\n\u001b[1;32m-> 1133\u001b[1;33m             return self._get_converter(Unit(other),\n\u001b[0m\u001b[0;32m   1134\u001b[0m                                        equivalencies=equivalencies)(value)\n\u001b[0;32m   1135\u001b[0m \u001b[1;33m\u001b[0m\u001b[0m\n",
      "\u001b[1;32m~\\AppData\\Local\\Programs\\Python\\Python39\\lib\\site-packages\\astropy\\units\\core.py\u001b[0m in \u001b[0;36m_get_converter\u001b[1;34m(self, other, equivalencies)\u001b[0m\n\u001b[0;32m   1062\u001b[0m                             \u001b[1;32mpass\u001b[0m\u001b[1;33m\u001b[0m\u001b[1;33m\u001b[0m\u001b[0m\n\u001b[0;32m   1063\u001b[0m \u001b[1;33m\u001b[0m\u001b[0m\n\u001b[1;32m-> 1064\u001b[1;33m             \u001b[1;32mraise\u001b[0m \u001b[0mexc\u001b[0m\u001b[1;33m\u001b[0m\u001b[1;33m\u001b[0m\u001b[0m\n\u001b[0m\u001b[0;32m   1065\u001b[0m \u001b[1;33m\u001b[0m\u001b[0m\n\u001b[0;32m   1066\u001b[0m     \u001b[1;32mdef\u001b[0m \u001b[0m_to\u001b[0m\u001b[1;33m(\u001b[0m\u001b[0mself\u001b[0m\u001b[1;33m,\u001b[0m \u001b[0mother\u001b[0m\u001b[1;33m)\u001b[0m\u001b[1;33m:\u001b[0m\u001b[1;33m\u001b[0m\u001b[1;33m\u001b[0m\u001b[0m\n",
      "\u001b[1;32m~\\AppData\\Local\\Programs\\Python\\Python39\\lib\\site-packages\\astropy\\units\\core.py\u001b[0m in \u001b[0;36m_get_converter\u001b[1;34m(self, other, equivalencies)\u001b[0m\n\u001b[0;32m   1047\u001b[0m         \u001b[1;31m# if that doesn't work, maybe we can do it with equivalencies?\u001b[0m\u001b[1;33m\u001b[0m\u001b[1;33m\u001b[0m\u001b[1;33m\u001b[0m\u001b[0m\n\u001b[0;32m   1048\u001b[0m         \u001b[1;32mtry\u001b[0m\u001b[1;33m:\u001b[0m\u001b[1;33m\u001b[0m\u001b[1;33m\u001b[0m\u001b[0m\n\u001b[1;32m-> 1049\u001b[1;33m             return self._apply_equivalencies(\n\u001b[0m\u001b[0;32m   1050\u001b[0m                 self, other, self._normalize_equivalencies(equivalencies))\n\u001b[0;32m   1051\u001b[0m         \u001b[1;32mexcept\u001b[0m \u001b[0mUnitsError\u001b[0m \u001b[1;32mas\u001b[0m \u001b[0mexc\u001b[0m\u001b[1;33m:\u001b[0m\u001b[1;33m\u001b[0m\u001b[1;33m\u001b[0m\u001b[0m\n",
      "\u001b[1;32m~\\AppData\\Local\\Programs\\Python\\Python39\\lib\\site-packages\\astropy\\units\\core.py\u001b[0m in \u001b[0;36m_apply_equivalencies\u001b[1;34m(self, unit, other, equivalencies)\u001b[0m\n\u001b[0;32m   1023\u001b[0m         \u001b[0mother_str\u001b[0m \u001b[1;33m=\u001b[0m \u001b[0mget_err_str\u001b[0m\u001b[1;33m(\u001b[0m\u001b[0mother\u001b[0m\u001b[1;33m)\u001b[0m\u001b[1;33m\u001b[0m\u001b[1;33m\u001b[0m\u001b[0m\n\u001b[0;32m   1024\u001b[0m \u001b[1;33m\u001b[0m\u001b[0m\n\u001b[1;32m-> 1025\u001b[1;33m         raise UnitConversionError(\n\u001b[0m\u001b[0;32m   1026\u001b[0m             f\"{unit_str} and {other_str} are not convertible\")\n\u001b[0;32m   1027\u001b[0m \u001b[1;33m\u001b[0m\u001b[0m\n",
      "\u001b[1;31mUnitConversionError\u001b[0m: 'km3 / s2' and '' (dimensionless) are not convertible"
     ]
    }
   ],
   "source": [
    "unit_r = np.empty(3) \n",
    "newR = np.empty(3)\n",
    "\n",
    "nu = E_to_nu(M_to_E(np.array([belt.M.to(u.rad).value]).T, belt.ecc.value, numpyOutput=True), belt.ecc.value, numpyOutput=True)\n",
    "\n",
    "positions, velocities = PA.core.elements.coe2rv_many(np.full(belt.size, belt.micro)*u.km**3/u.s**2, (belt.a*(1-np.square(belt.ecc))).to(\"km\").value, belt.ecc.value, belt.inc.to(\"rad\").value, belt.Omega.to(\"rad\").value, belt.w.to(\"rad\").value, nu.to(\"rad\").value)\n",
    "\n",
    "kickStrength = 0.001*u.km\n",
    "\n",
    "old_radius = np.linalg.norm(positions, axis=1)\n",
    "unit_r = positions/old_radius\n",
    "old_r_0 = belt.a*(1 - np.square(belt.ecc))\n",
    "newPosition = radiuses + kickStrength*unit_r\n",
    "oldThetaVelocity = velocities - np.einsum(\"ik,ik->i\", velocities, unit_r)*unit_r\n",
    "newThetaVelocity = old_radius/(old_radius + kickStrength)*oldThetaVelocity\n",
    "newVelocity = np.einsum(\"ik,ik->i\", velocities, unit_r)*unit_r + newThetaVelocity\n",
    "p, belt.ecc, belt.inc, belt.Omega, belt.w, nu = PA.core.elements.rv2coe(belt.micro, newPosition, newVelocity)\n",
    "belt.a = p/(1 - np.square(belt.ecc))\n",
    "belt.M[i] = PA.core.angles.E_to_M(PA.core.angles.nu_to_E(nu, belt.ecc), belt.ecc)*u.rad\n",
    "new_r_0 = belt.a*(1 - np.square(belt.ecc))\n",
    "if old_r_0 - new_r_0 > 10**-12*u.km:\n",
    "    print(\"L_2 before and after do not match: \", old_r_0, \"\\t\", new_r_0)"
   ]
  },
  {
   "cell_type": "code",
   "execution_count": 41,
   "id": "332dc297",
   "metadata": {},
   "outputs": [
    {
     "name": "stdout",
     "output_type": "stream",
     "text": [
      "GPU memory size:  6871580672\n",
      "Running  19  memory frames\n",
      "GPU Time:  35.86150240898132  Astro Time:  0.0015015602111816406\n"
     ]
    }
   ],
   "source": [
    "gpuStart = time_pkg.time()\n",
    "radiuses[:,dipole_step:quad_step], velocities[:,dipole_step:quad_step], final_mean_anamoly = propagate(belt, quad_time-dipole_time, timestep)\n",
    "gpuEnd = time_pkg.time()\n",
    "belt.setMeanAnamoly(final_mean_anamoly)\n",
    "astroEnd = time_pkg.time()\n",
    "\n",
    "print(\"GPU Time: \", gpuEnd-gpuStart, \" Astro Time: \", astroEnd-gpuEnd)"
   ]
  },
  {
   "cell_type": "code",
   "execution_count": 42,
   "id": "5aa6083d",
   "metadata": {},
   "outputs": [],
   "source": [
    "avr_radius[dipole_step:quad_step] = average_scaler(radiuses, start=dipole_step, end=quad_step)"
   ]
  },
  {
   "cell_type": "code",
   "execution_count": 43,
   "id": "59a5ef17",
   "metadata": {},
   "outputs": [
    {
     "data": {
      "text/plain": [
       "[<matplotlib.lines.Line2D at 0x23fc3ce8f10>]"
      ]
     },
     "execution_count": 43,
     "metadata": {},
     "output_type": "execute_result"
    },
    {
     "data": {
      "image/png": "[encoded data removed]",
      "text/plain": [
       "<Figure size 432x288 with 1 Axes>"
      ]
     },
     "metadata": {
      "needs_background": "light"
     },
     "output_type": "display_data"
    }
   ],
   "source": [
    "plt.plot(time[0:quad_step], avr_radius[0:quad_step])"
   ]
  },
  {
   "cell_type": "code",
   "execution_count": 44,
   "id": "b5262f53",
   "metadata": {},
   "outputs": [],
   "source": [
    "unit_r = np.empty(3) \n",
    "newR = np.empty(3)\n",
    "\n",
    "for i in range(0, belt.size):\n",
    "    orb[i] = Orbit.from_classical(GM, belt.a[i], belt.ecc[i], belt.inc[i], belt.Omega[i], belt.w[i], PA.core.angles.E_to_nu(PA.core.angles.E_to_M(belt.M[i], belt.ecc[i]), belt.ecc[i])*u.rad)\n",
    "\n",
    "quad_strength = 0.35 * u.second**-1\n",
    "radius_offset = r_0\n",
    "\n",
    "for i in range(0, belt.size):\n",
    "        if orb[i].energy >= 0:\n",
    "            print(orb[i], \" is ALREADY not a bound orbit BEFORE KICKING.\")\n",
    "        old_radius = np.linalg.norm(orb[i].r)\n",
    "        unit_r = orb[i].r/old_radius\n",
    "        newVelocity = orb[i].v + quad_strength*(old_radius - radius_offset)*unit_r\n",
    "        orb[i] = Orbit.from_vectors(GM, orb[i].r, newVelocity)\n",
    "        belt.a[i] = orb[i].a\n",
    "        belt.ecc[i] = orb[i].ecc\n",
    "        belt.inc[i] = orb[i].inc\n",
    "        belt.Omega[i] = orb[i].raan\n",
    "        belt.w[i] = orb[i].argp\n",
    "        belt.M[i] = PA.core.angles.E_to_M(PA.core.angles.nu_to_E(orb[i].nu, orb[i].ecc), orb[i].ecc)*u.rad\n",
    "        if orb[i].energy >= 0:\n",
    "            print(orb[i], \" is not a bound orbit.\")\n",
    "#         if (np.linalg.norm(orb[i].r) > old_radius):\n",
    "#             print(\"The new radius is greater than the original.\", np.linalg.norm(orb[i].r), old_radius)\n",
    "#             print(orb[i].r, old_radius)\n",
    "#             print(\"Radius should be\",np.linalg.norm(newPosition) )"
   ]
  },
  {
   "cell_type": "code",
   "execution_count": 45,
   "id": "6b9ab110",
   "metadata": {},
   "outputs": [
    {
     "name": "stdout",
     "output_type": "stream",
     "text": [
      "GPU memory size:  6871580672\n",
      "Running  25  memory frames\n",
      "GPU Time:  66.70010781288147  Astro Time:  0.005867481231689453\n"
     ]
    }
   ],
   "source": [
    "gpuStart = time_pkg.time()\n",
    "radiuses[:,quad_step:end_step], velocities[:,quad_step:end_step], final_mean_anamoly = propagate(belt, end_time - quad_time, timestep)\n",
    "gpuEnd = time_pkg.time()\n",
    "belt.setMeanAnamoly(final_mean_anamoly)\n",
    "astroEnd = time_pkg.time()\n",
    "\n",
    "print(\"GPU Time: \", gpuEnd-gpuStart, \" Astro Time: \", astroEnd-gpuEnd)"
   ]
  },
  {
   "cell_type": "code",
   "execution_count": 46,
   "id": "2ad78753",
   "metadata": {},
   "outputs": [],
   "source": [
    "avr_radius[quad_step:end_step] = average_scaler(radiuses[quad_step:end_step], start=quad_step, end=end_step)"
   ]
  },
  {
   "cell_type": "code",
   "execution_count": 47,
   "id": "f781f9d6",
   "metadata": {},
   "outputs": [
    {
     "data": {
      "text/plain": [
       "[<matplotlib.lines.Line2D at 0x240b5bb58e0>]"
      ]
     },
     "execution_count": 47,
     "metadata": {},
     "output_type": "execute_result"
    },
    {
     "data": {
      "image/png": "[encoded data removed]",
      "text/plain": [
       "<Figure size 432x288 with 1 Axes>"
      ]
     },
     "metadata": {
      "needs_background": "light"
     },
     "output_type": "display_data"
    }
   ],
   "source": [
    "plt.plot(time[0:end_step], avr_radius[0:end_step])"
   ]
  },
  {
   "cell_type": "code",
   "execution_count": null,
   "id": "43daf6b7",
   "metadata": {},
   "outputs": [],
   "source": []
  }
 ],
 "metadata": {
  "kernelspec": {
   "display_name": "Python 3",
   "language": "python",
   "name": "python3"
  },
  "language_info": {
   "codemirror_mode": {
    "name": "ipython",
    "version": 3
   },
   "file_extension": ".py",
   "mimetype": "text/x-python",
   "name": "python",
   "nbconvert_exporter": "python",
   "pygments_lexer": "ipython3",
   "version": "3.9.1"
  }
 },
 "nbformat": 4,
 "nbformat_minor": 5
}
