{
 "cells": [
  {
   "cell_type": "code",
   "execution_count": 1,
   "id": "5162d402",
   "metadata": {},
   "outputs": [],
   "source": [
    "import poliastro as PA\n",
    "import numpy as np\n",
    "import matplotlib.pyplot as plt\n",
    "import time as time_pkg\n",
    "\n",
    "from astropy import units as u\n",
    "\n",
    "from poliastro.bodies import Earth, Body\n",
    "from poliastro.twobody import Orbit\n",
    "from poliastro.examples import iss\n",
    "\n",
    "from scipy.stats import expon, uniform, norm, triang\n",
    "from scipy.special import comb\n",
    "\n",
    "from lib.GPUKeplerSimulation import propagate, average_scaler, average_3vector\n",
    "from lib.DisplaySimulation import displaySimulation"
   ]
  },
  {
   "cell_type": "code",
   "execution_count": null,
   "id": "26c670ea",
   "metadata": {},
   "outputs": [],
   "source": [
    "displaySimulation(orb)"
   ]
  },
  {
   "cell_type": "code",
   "execution_count": null,
   "id": "69721825",
   "metadata": {},
   "outputs": [],
   "source": [
    "# Exponential Distribution\n",
    "size = 100\n",
    "\n",
    "J_1 = expon.rvs(scale=1, loc=0.0, size=size)\n",
    "\n",
    "exponential_var2 = expon.rvs(scale=0.01, loc=0, size=size)\n",
    "J_2 = J_1 - exponential_var2\n",
    "\n",
    "for i in range(0,size):\n",
    "    if J_2[i] < 0.0:\n",
    "        J_2[i] = 0.0001\n",
    "\n",
    "exponential_var3 = expon.rvs(scale=0.1, loc=0, size=size)\n",
    "J_3 = J_2 - exponential_var3\n",
    "\n",
    "for i in range(0,size):\n",
    "    if J_3[i] < -J_2[i]:\n",
    "        J_3[i] = -J_2[i]\n",
    "\n",
    "M = uniform.rvs(loc = -np.pi, scale = np.pi, size=size) * u.rad\n",
    "w = uniform.rvs(loc = -np.pi, scale = np.pi, size=size) * u.rad\n",
    "Omega = uniform.rvs(loc = -np.pi, scale = np.pi, size=size) * u.rad"
   ]
  },
  {
   "cell_type": "code",
   "execution_count": null,
   "id": "83452ce3",
   "metadata": {},
   "outputs": [],
   "source": [
    "# Near Circular Distribution\n",
    "size = 500\n",
    "r_0 = 1*u.km\n",
    "sigma_e = 0.01*np.sqrt(1*u.km)\n",
    "sigma_a = 0.000*np.sqrt(1*u.km)\n",
    "alpha_over_m = 1*u.km**3/u.s**2 \n",
    "\n",
    "\n",
    "expvar1 = expon.rvs(scale=sigma_e, loc=0, size=size)*np.sqrt(1*u.km)\n",
    "\n",
    "#J_2 = expon.norm(scale=sigma_a, loc=r_0, size=size)\n",
    "J_2 = np.repeat(np.sqrt(r_0), size)\n",
    "\n",
    "J_1 = expvar1 + J_2\n",
    "J_3 = J_2\n",
    "\n",
    "M = uniform.rvs(loc = 0, scale = 2*np.pi, size=size) * u.rad\n",
    "w = uniform.rvs(loc = 0, scale = 2*np.pi, size=size) * u.rad\n",
    "Omega = np.repeat(0.0, size) * u.rad"
   ]
  },
  {
   "cell_type": "code",
   "execution_count": null,
   "id": "371f4b50",
   "metadata": {},
   "outputs": [],
   "source": [
    "# Near Gausian in R Distribution\n",
    "size = 500\n",
    "r_0 = 1*u.km\n",
    "sigma_r = 0.5*u.kg*u.km**2\n",
    "alpha_over_m = 1*u.km**3/u.s**2 \n",
    "\n",
    "\n",
    "expvar1 = expon.rvs(scale=1, loc=0, size=size)\n",
    "\n",
    "#J_2 = expon.norm(scale=sigma_a, loc=r_0, size=size)\n",
    "J_2 = np.repeat(np.sqrt(r_0), size)\n",
    "\n",
    "J_1 = np.sqrt((np.power(J_2, 2) + np.sqrt(np.power(J_2, 4) + sigma_r*expvar1))/2.0)\n",
    "J_3 = J_2\n",
    "\n",
    "M = uniform.rvs(loc = -2*np.pi, scale = 2*np.pi, size=size) * u.rad\n",
    "w = uniform.rvs(loc = 0, scale = 2*np.pi, size=size) * u.rad\n",
    "Omega = np.repeat(0.0, size) * u.rad"
   ]
  },
  {
   "cell_type": "code",
   "execution_count": 2,
   "id": "6e2d06cb",
   "metadata": {},
   "outputs": [],
   "source": [
    "# Near SHO Distribution\n",
    "# Here I'm setting J_SHO = sqrt(ma^3/2k) * (p^2/2m + k/a^3*x^2)\n",
    "# This leads to J_SHO = sqrt(ka/2)e^2 = sqrt(k/2)(J_1 - J_2^2/J_1)\n",
    "# Then im distributing particles according to exp{- J_SHO/epsilon}\n",
    "\n",
    "size = 20000\n",
    "r_0 = 0.05*u.km\n",
    "epsilon = 0.0000001*u.kg*u.km**2/u.s\n",
    "k = 0.00112*u.kg*u.km**3/u.s**2 \n",
    "m = 0.1*u.kg\n",
    "\n",
    "J_SHO = expon.rvs(scale=epsilon, loc=0, size=size)*1*u.kg*u.km**2/u.s\n",
    "\n",
    "#J_2 = expon.norm(scale=sigma_a, loc=r_0, size=size)\n",
    "J_2 = np.repeat(np.sqrt(r_0), size)\n",
    "\n",
    "J_1 = (J_SHO + np.sqrt(np.power(J_SHO, 2) + 4*k*m*np.power(J_2, 2)))/(2.0*np.sqrt(k*m))\n",
    "J_3 = J_2\n",
    "\n",
    "M = uniform.rvs(loc = -2*np.pi, scale = 2*np.pi, size=size) * u.rad\n",
    "w = uniform.rvs(loc = 0, scale = 2*np.pi, size=size) * u.rad\n",
    "Omega = np.repeat(0.0, size) * u.rad"
   ]
  },
  {
   "cell_type": "code",
   "execution_count": 3,
   "id": "f5dab352",
   "metadata": {},
   "outputs": [
    {
     "name": "stdout",
     "output_type": "stream",
     "text": [
      "Omega_0:  9.465727652959384 1 / s\n",
      "Omega_prime:  -5999.999999999998 1 / (kg km2)\n",
      "Decoherance Time:  -10471.97551196598 s\n"
     ]
    }
   ],
   "source": [
    "omega = np.sqrt(k/m)/np.power(r_0, 3.0/2.0)\n",
    "omega_prime = -3/(2*m*np.power(r_0, 2.0))\n",
    "print(\"Omega_0: \", omega)\n",
    "print(\"Omega_prime: \", omega_prime)\n",
    "print(\"Decoherance Time: \", 2*np.pi/(omega_prime*epsilon))\n",
    "\n",
    "# average_radius = 3*sigma_e**2 + 3*sigma_e*sigma_a + 3*sigma_e*np.sqrt(r_0) + 2*sigma_a**2 + 2*sigma_a*np.sqrt(r_0) + r_0\n",
    "# print(\"Inital average radius: \", average_radius)"
   ]
  },
  {
   "cell_type": "code",
   "execution_count": 4,
   "id": "9b3f002e",
   "metadata": {},
   "outputs": [],
   "source": [
    "a = np.square(J_1)\n",
    "ecc = np.sqrt(1 - np.square(J_2/J_1)) * u.one\n",
    "inc = np.arccos(J_3/J_2)\n",
    "\n",
    "GM = Body(None, k/m, \"Central Body\")"
   ]
  },
  {
   "cell_type": "code",
   "execution_count": 5,
   "id": "691d2ba6",
   "metadata": {},
   "outputs": [],
   "source": [
    "class AsteriodBelt:\n",
    "    size = 0\n",
    "    micro = 1*u.km**3/u.s**2\n",
    "    a = np.array([])*u.km\n",
    "    ecc = np.array([])*u.one\n",
    "    inc = np.array([])*u.rad\n",
    "    Omega = np.array([])*u.rad\n",
    "    w = np.array([])*u.rad\n",
    "    M = np.array([])*u.rad\n",
    "    def __init__(self, _size, _micro, _a, _ecc, _inc, _Omega, _w, _M):\n",
    "        self.size = _size\n",
    "        self.micro = _micro\n",
    "        self.a = _a\n",
    "        self.ecc = _ecc\n",
    "        self.inc = _inc\n",
    "        self.Omega = _Omega\n",
    "        self.w = _w\n",
    "        self.M = _M\n",
    "        \n",
    "    def setMeanAnamoly(self, _M):\n",
    "        self.M = _M"
   ]
  },
  {
   "cell_type": "code",
   "execution_count": 6,
   "id": "a3297afa",
   "metadata": {},
   "outputs": [],
   "source": [
    "belt = AsteriodBelt(size, k/m, a, ecc, inc, Omega, w, M)"
   ]
  },
  {
   "cell_type": "code",
   "execution_count": 7,
   "id": "96d31cae",
   "metadata": {},
   "outputs": [],
   "source": [
    "timestep = 1*u.second\n",
    "\n",
    "time_before_kick = 200*u.second\n",
    "time_after_kick = 1400*u.second\n",
    "time_after_quad_kick = 4500*u.second\n",
    "\n",
    "dipole_time = time_before_kick\n",
    "quad_time = time_before_kick + time_after_kick\n",
    "end_time = time_before_kick + time_after_kick + time_after_quad_kick\n",
    "\n",
    "dipole_step = int(dipole_time/timestep)\n",
    "quad_step = int(quad_time/timestep)\n",
    "end_step = int(end_time/timestep)\n",
    "\n",
    "\n",
    "time = np.linspace(0.0*u.second, end_time, end_step)\n",
    "\n",
    "avr_radius = np.zeros(end_step) * u.km\n",
    "\n",
    "radiuses = np.zeros((size, end_step)) * u.km\n",
    "velocities = np.zeros((size, end_step)) * u.km/u.s"
   ]
  },
  {
   "cell_type": "code",
   "execution_count": 8,
   "id": "2dd19f88",
   "metadata": {},
   "outputs": [
    {
     "name": "stdout",
     "output_type": "stream",
     "text": [
      "Initialization:  0.02892160415649414  Obj Extract:  0.008975744247436523  E Calc:  0.09674072265625\n",
      "GPU Time:  0.208953857421875  Astro Time:  0.0\n"
     ]
    }
   ],
   "source": [
    "gpuStart = time_pkg.time()\n",
    "radiuses[:,0:dipole_step], velocities[:,0:dipole_step], final_mean_anamoly = propagate(belt, dipole_time, timestep)\n",
    "gpuEnd = time_pkg.time()\n",
    "belt.setMeanAnamoly(final_mean_anamoly)\n",
    "astroEnd = time_pkg.time()\n",
    "\n",
    "print(\"GPU Time: \", gpuEnd-gpuStart, \" Astro Time: \", astroEnd-gpuEnd)"
   ]
  },
  {
   "cell_type": "code",
   "execution_count": 9,
   "id": "c3b9a541",
   "metadata": {},
   "outputs": [],
   "source": [
    "avr_radius[0:dipole_step] = average_scaler(radiuses, end=dipole_step)"
   ]
  },
  {
   "cell_type": "code",
   "execution_count": 10,
   "id": "b72138db",
   "metadata": {},
   "outputs": [
    {
     "data": {
      "text/plain": [
       "[<matplotlib.lines.Line2D at 0x1c68558a250>]"
      ]
     },
     "execution_count": 10,
     "metadata": {},
     "output_type": "execute_result"
    },
    {
     "data": {
      "image/png": "[encoded data removed]",
      "text/plain": [
       "<Figure size 432x288 with 1 Axes>"
      ]
     },
     "metadata": {
      "needs_background": "light"
     },
     "output_type": "display_data"
    }
   ],
   "source": [
    "plt.plot(time[0:dipole_step], avr_radius[0:dipole_step])"
   ]
  },
  {
   "cell_type": "code",
   "execution_count": 11,
   "id": "60ca4ad1",
   "metadata": {},
   "outputs": [],
   "source": [
    "unit_r = np.empty(3) \n",
    "newR = np.empty(3)\n",
    "\n",
    "orb = [None]*belt.size\n",
    "\n",
    "for i in range(0, belt.size):\n",
    "    orb[i] = Orbit.from_classical(GM, belt.a[i], belt.ecc[i], belt.inc[i], belt.Omega[i], belt.w[i], PA.core.angles.E_to_nu(PA.core.angles.E_to_M(belt.M[i], belt.ecc[i]), belt.ecc[i])*u.rad)\n",
    "\n",
    "kickStrength = 0.001*u.km\n",
    "\n",
    "for i in range(0, size):\n",
    "        if orb[i].energy >= 0:\n",
    "            print(orb[i], \" is ALREADY not a bound orbit BEFORE KICKING.\")\n",
    "        old_radius = np.linalg.norm(orb[i].r)\n",
    "        unit_r = orb[i].r/old_radius\n",
    "        old_r_0 = orb[i].a*(1 - np.square(orb[i].ecc))\n",
    "        newPosition = orb[i].r + kickStrength*unit_r\n",
    "        oldThetaVelocity = orb[i].v - np.dot(orb[i].v, unit_r)*unit_r\n",
    "        newThetaVelocity = old_radius/(old_radius + kickStrength)*oldThetaVelocity\n",
    "        newVelocity = np.dot(orb[i].v, unit_r)*unit_r + newThetaVelocity\n",
    "        orb[i] = Orbit.from_vectors(GM, newPosition, newVelocity)\n",
    "        belt.a[i] = orb[i].a\n",
    "        belt.ecc[i] = orb[i].ecc\n",
    "        belt.inc[i] = orb[i].inc\n",
    "        belt.Omega[i] = orb[i].raan\n",
    "        belt.w[i] = orb[i].argp\n",
    "        belt.M[i] = PA.core.angles.E_to_M(PA.core.angles.nu_to_E(orb[i].nu, orb[i].ecc), orb[i].ecc)*u.rad\n",
    "        new_r_0 = orb[i].a*(1 - np.square(orb[i].ecc))\n",
    "        if old_r_0 - new_r_0 > 10**-12*u.km:\n",
    "            print(\"L_2 before and after do not match: \", old_r_0, \"\\t\", new_r_0)\n",
    "        if orb[i].energy >= 0:\n",
    "            print(orb[i], \" is not a bound orbit.\")\n",
    "        if (orb[i].r != newPosition).any():\n",
    "            print(\"r got missassigned.\")\n",
    "#         if (np.linalg.norm(orb[i].r) > old_radius):\n",
    "#             print(\"The new radius is greater than the original.\", np.linalg.norm(orb[i].r), old_radius)\n",
    "#             print(orb[i].r, old_radius)\n",
    "#             print(\"Radius should be\",np.linalg.norm(newPosition) )"
   ]
  },
  {
   "cell_type": "code",
   "execution_count": 12,
   "id": "332dc297",
   "metadata": {},
   "outputs": [
    {
     "name": "stdout",
     "output_type": "stream",
     "text": [
      "Initialization:  0.006981849670410156  Obj Extract:  0.0009980201721191406  E Calc:  0.6477899551391602\n",
      "GPU Time:  1.2482101917266846  Astro Time:  0.0\n"
     ]
    }
   ],
   "source": [
    "gpuStart = time_pkg.time()\n",
    "radiuses[:,dipole_step:quad_step], velocities[:,dipole_step:quad_step], final_mean_anamoly = propagate(belt, quad_time-dipole_time, timestep)\n",
    "gpuEnd = time_pkg.time()\n",
    "belt.setMeanAnamoly(final_mean_anamoly)\n",
    "astroEnd = time_pkg.time()\n",
    "\n",
    "print(\"GPU Time: \", gpuEnd-gpuStart, \" Astro Time: \", astroEnd-gpuEnd)"
   ]
  },
  {
   "cell_type": "code",
   "execution_count": 13,
   "id": "5aa6083d",
   "metadata": {},
   "outputs": [],
   "source": [
    "avr_radius[dipole_step:quad_step] = average_scaler(radiuses, start=dipole_step, end=quad_step)"
   ]
  },
  {
   "cell_type": "code",
   "execution_count": 14,
   "id": "59a5ef17",
   "metadata": {},
   "outputs": [
    {
     "data": {
      "text/plain": [
       "[<matplotlib.lines.Line2D at 0x1c75a488430>]"
      ]
     },
     "execution_count": 14,
     "metadata": {},
     "output_type": "execute_result"
    },
    {
     "data": {
      "image/png": "[encoded data removed]",
      "text/plain": [
       "<Figure size 432x288 with 1 Axes>"
      ]
     },
     "metadata": {
      "needs_background": "light"
     },
     "output_type": "display_data"
    }
   ],
   "source": [
    "plt.plot(time[0:quad_step], avr_radius[0:quad_step])"
   ]
  },
  {
   "cell_type": "code",
   "execution_count": 15,
   "id": "b5262f53",
   "metadata": {},
   "outputs": [],
   "source": [
    "unit_r = np.empty(3) \n",
    "newR = np.empty(3)\n",
    "\n",
    "for i in range(0, belt.size):\n",
    "    orb[i] = Orbit.from_classical(GM, belt.a[i], belt.ecc[i], belt.inc[i], belt.Omega[i], belt.w[i], PA.core.angles.E_to_nu(PA.core.angles.E_to_M(belt.M[i], belt.ecc[i]), belt.ecc[i])*u.rad)\n",
    "\n",
    "quad_strength = 0.35 * u.second**-1\n",
    "radius_offset = r_0\n",
    "\n",
    "for i in range(0, size):\n",
    "        if orb[i].energy >= 0:\n",
    "            print(orb[i], \" is ALREADY not a bound orbit BEFORE KICKING.\")\n",
    "        old_radius = np.linalg.norm(orb[i].r)\n",
    "        unit_r = orb[i].r/old_radius\n",
    "        newVelocity = orb[i].v + quad_strength*(old_radius - radius_offset)*unit_r\n",
    "        orb[i] = Orbit.from_vectors(GM, orb[i].r, newVelocity)\n",
    "        belt.a[i] = orb[i].a\n",
    "        belt.ecc[i] = orb[i].ecc\n",
    "        belt.inc[i] = orb[i].inc\n",
    "        belt.Omega[i] = orb[i].raan\n",
    "        belt.w[i] = orb[i].argp\n",
    "        belt.M[i] = PA.core.angles.E_to_M(PA.core.angles.nu_to_E(orb[i].nu, orb[i].ecc), orb[i].ecc)*u.rad\n",
    "        if orb[i].energy >= 0:\n",
    "            print(orb[i], \" is not a bound orbit.\")\n",
    "#         if (np.linalg.norm(orb[i].r) > old_radius):\n",
    "#             print(\"The new radius is greater than the original.\", np.linalg.norm(orb[i].r), old_radius)\n",
    "#             print(orb[i].r, old_radius)\n",
    "#             print(\"Radius should be\",np.linalg.norm(newPosition) )"
   ]
  },
  {
   "cell_type": "code",
   "execution_count": 16,
   "id": "6b9ab110",
   "metadata": {},
   "outputs": [
    {
     "ename": "OutOfMemoryError",
     "evalue": "Out of memory allocating 10,080,000,000 bytes (allocated so far: 7,264,808,960 bytes).",
     "output_type": "error",
     "traceback": [
      "\u001b[1;31m---------------------------------------------------------------------------\u001b[0m",
      "\u001b[1;31mOutOfMemoryError\u001b[0m                          Traceback (most recent call last)",
      "\u001b[1;32m<ipython-input-16-293728c98fa7>\u001b[0m in \u001b[0;36m<module>\u001b[1;34m\u001b[0m\n\u001b[0;32m      1\u001b[0m \u001b[0mgpuStart\u001b[0m \u001b[1;33m=\u001b[0m \u001b[0mtime_pkg\u001b[0m\u001b[1;33m.\u001b[0m\u001b[0mtime\u001b[0m\u001b[1;33m(\u001b[0m\u001b[1;33m)\u001b[0m\u001b[1;33m\u001b[0m\u001b[1;33m\u001b[0m\u001b[0m\n\u001b[1;32m----> 2\u001b[1;33m \u001b[0mradiuses\u001b[0m\u001b[1;33m[\u001b[0m\u001b[1;33m:\u001b[0m\u001b[1;33m,\u001b[0m\u001b[0mquad_step\u001b[0m\u001b[1;33m:\u001b[0m\u001b[0mend_step\u001b[0m\u001b[1;33m]\u001b[0m\u001b[1;33m,\u001b[0m \u001b[0mvelocities\u001b[0m\u001b[1;33m[\u001b[0m\u001b[1;33m:\u001b[0m\u001b[1;33m,\u001b[0m\u001b[0mquad_step\u001b[0m\u001b[1;33m:\u001b[0m\u001b[0mend_step\u001b[0m\u001b[1;33m]\u001b[0m\u001b[1;33m,\u001b[0m \u001b[0mfinal_mean_anamoly\u001b[0m \u001b[1;33m=\u001b[0m \u001b[0mpropagate\u001b[0m\u001b[1;33m(\u001b[0m\u001b[0mbelt\u001b[0m\u001b[1;33m,\u001b[0m \u001b[0mend_time\u001b[0m \u001b[1;33m-\u001b[0m \u001b[0mquad_time\u001b[0m\u001b[1;33m,\u001b[0m \u001b[0mtimestep\u001b[0m\u001b[1;33m)\u001b[0m\u001b[1;33m\u001b[0m\u001b[1;33m\u001b[0m\u001b[0m\n\u001b[0m\u001b[0;32m      3\u001b[0m \u001b[0mgpuEnd\u001b[0m \u001b[1;33m=\u001b[0m \u001b[0mtime_pkg\u001b[0m\u001b[1;33m.\u001b[0m\u001b[0mtime\u001b[0m\u001b[1;33m(\u001b[0m\u001b[1;33m)\u001b[0m\u001b[1;33m\u001b[0m\u001b[1;33m\u001b[0m\u001b[0m\n\u001b[0;32m      4\u001b[0m \u001b[0mbelt\u001b[0m\u001b[1;33m.\u001b[0m\u001b[0msetMeanAnamoly\u001b[0m\u001b[1;33m(\u001b[0m\u001b[0mfinal_mean_anamoly\u001b[0m\u001b[1;33m)\u001b[0m\u001b[1;33m\u001b[0m\u001b[1;33m\u001b[0m\u001b[0m\n\u001b[0;32m      5\u001b[0m \u001b[0mastroEnd\u001b[0m \u001b[1;33m=\u001b[0m \u001b[0mtime_pkg\u001b[0m\u001b[1;33m.\u001b[0m\u001b[0mtime\u001b[0m\u001b[1;33m(\u001b[0m\u001b[1;33m)\u001b[0m\u001b[1;33m\u001b[0m\u001b[1;33m\u001b[0m\u001b[0m\n",
      "\u001b[1;32m~\\Documents\\GitRep\\EchoSimulation\\PythonSimulation\\lib\\GPUKeplerSimulation.py\u001b[0m in \u001b[0;36mpropagate\u001b[1;34m(belt, time_of_flight, timestep)\u001b[0m\n\u001b[0;32m     65\u001b[0m         \u001b[0minitial_mean_anamoly\u001b[0m\u001b[1;33m[\u001b[0m\u001b[1;33m:\u001b[0m\u001b[1;33m,\u001b[0m \u001b[0mcp\u001b[0m\u001b[1;33m.\u001b[0m\u001b[0mnewaxis\u001b[0m\u001b[1;33m]\u001b[0m\u001b[1;33m\u001b[0m\u001b[1;33m\u001b[0m\u001b[0m\n\u001b[0;32m     66\u001b[0m     \u001b[0mfinal_mean_anamoly\u001b[0m \u001b[1;33m=\u001b[0m \u001b[0mmean_anamoly\u001b[0m\u001b[1;33m[\u001b[0m\u001b[1;33m:\u001b[0m\u001b[1;33m,\u001b[0m \u001b[0mnum_of_steps\u001b[0m \u001b[1;33m-\u001b[0m \u001b[1;36m1\u001b[0m\u001b[1;33m]\u001b[0m\u001b[1;33m\u001b[0m\u001b[1;33m\u001b[0m\u001b[0m\n\u001b[1;32m---> 67\u001b[1;33m     \u001b[0meccentric_anamoly\u001b[0m \u001b[1;33m=\u001b[0m \u001b[0mM_to_E\u001b[0m\u001b[1;33m(\u001b[0m\u001b[0mmean_anamoly\u001b[0m\u001b[1;33m,\u001b[0m \u001b[0me\u001b[0m\u001b[1;33m)\u001b[0m\u001b[1;33m\u001b[0m\u001b[1;33m\u001b[0m\u001b[0m\n\u001b[0m\u001b[0;32m     68\u001b[0m     \u001b[0mdelta_r\u001b[0m \u001b[1;33m=\u001b[0m \u001b[1;33m-\u001b[0m\u001b[0mcp\u001b[0m\u001b[1;33m.\u001b[0m\u001b[0meinsum\u001b[0m\u001b[1;33m(\u001b[0m\u001b[1;34m\"i,ik -> ik\"\u001b[0m\u001b[1;33m,\u001b[0m \u001b[0me\u001b[0m\u001b[1;33m,\u001b[0m \u001b[0mcp\u001b[0m\u001b[1;33m.\u001b[0m\u001b[0mcos\u001b[0m\u001b[1;33m(\u001b[0m\u001b[0meccentric_anamoly\u001b[0m\u001b[1;33m)\u001b[0m\u001b[1;33m)\u001b[0m\u001b[1;33m\u001b[0m\u001b[1;33m\u001b[0m\u001b[0m\n\u001b[0;32m     69\u001b[0m     \u001b[0mradiuses\u001b[0m \u001b[1;33m=\u001b[0m \u001b[0mcp\u001b[0m\u001b[1;33m.\u001b[0m\u001b[0meinsum\u001b[0m\u001b[1;33m(\u001b[0m\u001b[1;34m\"i,ik -> ik\"\u001b[0m\u001b[1;33m,\u001b[0m \u001b[0ma\u001b[0m\u001b[1;33m,\u001b[0m \u001b[1;33m(\u001b[0m\u001b[1;36m1\u001b[0m \u001b[1;33m+\u001b[0m \u001b[0mdelta_r\u001b[0m\u001b[1;33m)\u001b[0m\u001b[1;33m)\u001b[0m\u001b[1;33m\u001b[0m\u001b[1;33m\u001b[0m\u001b[0m\n",
      "\u001b[1;32m~\\Documents\\GitRep\\EchoSimulation\\PythonSimulation\\lib\\GPUKeplerSimulation.py\u001b[0m in \u001b[0;36mM_to_E\u001b[1;34m(M, e)\u001b[0m\n\u001b[0;32m     32\u001b[0m \u001b[1;32mdef\u001b[0m \u001b[0mM_to_E\u001b[0m\u001b[1;33m(\u001b[0m\u001b[0mM\u001b[0m\u001b[1;33m,\u001b[0m \u001b[0me\u001b[0m\u001b[1;33m)\u001b[0m\u001b[1;33m:\u001b[0m\u001b[1;33m\u001b[0m\u001b[1;33m\u001b[0m\u001b[0m\n\u001b[0;32m     33\u001b[0m     \u001b[0mseries\u001b[0m \u001b[1;33m=\u001b[0m \u001b[0mcp\u001b[0m\u001b[1;33m.\u001b[0m\u001b[0mzeros\u001b[0m\u001b[1;33m(\u001b[0m\u001b[0mM\u001b[0m\u001b[1;33m.\u001b[0m\u001b[0mshape\u001b[0m\u001b[1;33m)\u001b[0m\u001b[1;33m\u001b[0m\u001b[1;33m\u001b[0m\u001b[0m\n\u001b[1;32m---> 34\u001b[1;33m     \u001b[0msins_of_M\u001b[0m \u001b[1;33m=\u001b[0m \u001b[0mcp\u001b[0m\u001b[1;33m.\u001b[0m\u001b[0msin\u001b[0m\u001b[1;33m(\u001b[0m\u001b[0mcp\u001b[0m\u001b[1;33m.\u001b[0m\u001b[0meinsum\u001b[0m\u001b[1;33m(\u001b[0m\u001b[1;34m\"i,jk->ijk\"\u001b[0m\u001b[1;33m,\u001b[0m \u001b[0mcp\u001b[0m\u001b[1;33m.\u001b[0m\u001b[0marange\u001b[0m\u001b[1;33m(\u001b[0m\u001b[1;36m0\u001b[0m\u001b[1;33m,\u001b[0m \u001b[0mCONST_ROWS\u001b[0m\u001b[1;33m+\u001b[0m\u001b[1;36m1\u001b[0m\u001b[1;33m)\u001b[0m\u001b[1;33m,\u001b[0m \u001b[0mM\u001b[0m\u001b[1;33m)\u001b[0m\u001b[1;33m)\u001b[0m\u001b[1;33m\u001b[0m\u001b[1;33m\u001b[0m\u001b[0m\n\u001b[0m\u001b[0;32m     35\u001b[0m     \u001b[1;32mfor\u001b[0m \u001b[0mn\u001b[0m \u001b[1;32min\u001b[0m \u001b[0mrange\u001b[0m\u001b[1;33m(\u001b[0m\u001b[1;36m1\u001b[0m\u001b[1;33m,\u001b[0m \u001b[0mCONST_ROWS\u001b[0m\u001b[1;33m)\u001b[0m\u001b[1;33m:\u001b[0m\u001b[1;33m\u001b[0m\u001b[1;33m\u001b[0m\u001b[0m\n\u001b[0;32m     36\u001b[0m         \u001b[1;32mfor\u001b[0m \u001b[0mk\u001b[0m \u001b[1;32min\u001b[0m \u001b[0mrange\u001b[0m\u001b[1;33m(\u001b[0m\u001b[1;36m0\u001b[0m\u001b[1;33m,\u001b[0m \u001b[0mint\u001b[0m\u001b[1;33m(\u001b[0m\u001b[0mcp\u001b[0m\u001b[1;33m.\u001b[0m\u001b[0mceil\u001b[0m\u001b[1;33m(\u001b[0m\u001b[0mn\u001b[0m\u001b[1;33m/\u001b[0m\u001b[1;36m2\u001b[0m\u001b[1;33m)\u001b[0m\u001b[1;33m)\u001b[0m\u001b[1;33m)\u001b[0m\u001b[1;33m:\u001b[0m\u001b[1;33m\u001b[0m\u001b[1;33m\u001b[0m\u001b[0m\n",
      "\u001b[1;32m~\\anaconda3\\lib\\site-packages\\cupy\\linalg\\_einsum.py\u001b[0m in \u001b[0;36meinsum\u001b[1;34m(*operands, **kwargs)\u001b[0m\n\u001b[0;32m    647\u001b[0m             \u001b[0moutput_subscript\u001b[0m\u001b[1;33m,\u001b[0m\u001b[1;33m\u001b[0m\u001b[1;33m\u001b[0m\u001b[0m\n\u001b[0;32m    648\u001b[0m             itertools.chain.from_iterable(input_subscripts)))\n\u001b[1;32m--> 649\u001b[1;33m         arr_out, sub_out = reduced_binary_einsum(\n\u001b[0m\u001b[0;32m    650\u001b[0m             arr0, sub0, arr1, sub1, sub_others)\n\u001b[0;32m    651\u001b[0m         \u001b[0moperands\u001b[0m\u001b[1;33m.\u001b[0m\u001b[0mappend\u001b[0m\u001b[1;33m(\u001b[0m\u001b[0marr_out\u001b[0m\u001b[1;33m)\u001b[0m\u001b[1;33m\u001b[0m\u001b[1;33m\u001b[0m\u001b[0m\n",
      "\u001b[1;32m~\\anaconda3\\lib\\site-packages\\cupy\\linalg\\_einsum.py\u001b[0m in \u001b[0;36mreduced_binary_einsum\u001b[1;34m(arr0, sub0, arr1, sub1, sub_others)\u001b[0m\n\u001b[0;32m    388\u001b[0m         \u001b[0marr0\u001b[0m \u001b[1;33m=\u001b[0m \u001b[0m_expand_dims_transpose\u001b[0m\u001b[1;33m(\u001b[0m\u001b[0marr0\u001b[0m\u001b[1;33m,\u001b[0m \u001b[0msub0\u001b[0m\u001b[1;33m,\u001b[0m \u001b[0msub_out\u001b[0m\u001b[1;33m)\u001b[0m\u001b[1;33m\u001b[0m\u001b[1;33m\u001b[0m\u001b[0m\n\u001b[0;32m    389\u001b[0m         \u001b[0marr1\u001b[0m \u001b[1;33m=\u001b[0m \u001b[0m_expand_dims_transpose\u001b[0m\u001b[1;33m(\u001b[0m\u001b[0marr1\u001b[0m\u001b[1;33m,\u001b[0m \u001b[0msub1\u001b[0m\u001b[1;33m,\u001b[0m \u001b[0msub_out\u001b[0m\u001b[1;33m)\u001b[0m\u001b[1;33m\u001b[0m\u001b[1;33m\u001b[0m\u001b[0m\n\u001b[1;32m--> 390\u001b[1;33m         \u001b[1;32mreturn\u001b[0m \u001b[0marr0\u001b[0m \u001b[1;33m*\u001b[0m \u001b[0marr1\u001b[0m\u001b[1;33m,\u001b[0m \u001b[0msub_out\u001b[0m\u001b[1;33m\u001b[0m\u001b[1;33m\u001b[0m\u001b[0m\n\u001b[0m\u001b[0;32m    391\u001b[0m \u001b[1;33m\u001b[0m\u001b[0m\n\u001b[0;32m    392\u001b[0m     \u001b[1;32mfor\u001b[0m \u001b[0maccelerator\u001b[0m \u001b[1;32min\u001b[0m \u001b[0m_accelerator\u001b[0m\u001b[1;33m.\u001b[0m\u001b[0mget_routine_accelerators\u001b[0m\u001b[1;33m(\u001b[0m\u001b[1;33m)\u001b[0m\u001b[1;33m:\u001b[0m\u001b[1;33m\u001b[0m\u001b[1;33m\u001b[0m\u001b[0m\n",
      "\u001b[1;32mcupy\\_core\\core.pyx\u001b[0m in \u001b[0;36mcupy._core.core.ndarray.__mul__\u001b[1;34m()\u001b[0m\n",
      "\u001b[1;32mcupy\\_core\\_kernel.pyx\u001b[0m in \u001b[0;36mcupy._core._kernel.ufunc.__call__\u001b[1;34m()\u001b[0m\n",
      "\u001b[1;32mcupy\\_core\\_kernel.pyx\u001b[0m in \u001b[0;36mcupy._core._kernel._get_out_args\u001b[1;34m()\u001b[0m\n",
      "\u001b[1;32mcupy\\_core\\core.pyx\u001b[0m in \u001b[0;36mcupy._core.core._ndarray_init\u001b[1;34m()\u001b[0m\n",
      "\u001b[1;32mcupy\\_core\\core.pyx\u001b[0m in \u001b[0;36mcupy._core.core.ndarray._init_fast\u001b[1;34m()\u001b[0m\n",
      "\u001b[1;32mcupy\\cuda\\memory.pyx\u001b[0m in \u001b[0;36mcupy.cuda.memory.alloc\u001b[1;34m()\u001b[0m\n",
      "\u001b[1;32mcupy\\cuda\\memory.pyx\u001b[0m in \u001b[0;36mcupy.cuda.memory.MemoryPool.malloc\u001b[1;34m()\u001b[0m\n",
      "\u001b[1;32mcupy\\cuda\\memory.pyx\u001b[0m in \u001b[0;36mcupy.cuda.memory.MemoryPool.malloc\u001b[1;34m()\u001b[0m\n",
      "\u001b[1;32mcupy\\cuda\\memory.pyx\u001b[0m in \u001b[0;36mcupy.cuda.memory.SingleDeviceMemoryPool.malloc\u001b[1;34m()\u001b[0m\n",
      "\u001b[1;32mcupy\\cuda\\memory.pyx\u001b[0m in \u001b[0;36mcupy.cuda.memory.SingleDeviceMemoryPool._malloc\u001b[1;34m()\u001b[0m\n",
      "\u001b[1;32mcupy\\cuda\\memory.pyx\u001b[0m in \u001b[0;36mcupy.cuda.memory.SingleDeviceMemoryPool._try_malloc\u001b[1;34m()\u001b[0m\n",
      "\u001b[1;31mOutOfMemoryError\u001b[0m: Out of memory allocating 10,080,000,000 bytes (allocated so far: 7,264,808,960 bytes)."
     ]
    }
   ],
   "source": [
    "gpuStart = time_pkg.time()\n",
    "radiuses[:,quad_step:end_step], velocities[:,quad_step:end_step], final_mean_anamoly = propagate(belt, end_time - quad_time, timestep)\n",
    "gpuEnd = time_pkg.time()\n",
    "belt.setMeanAnamoly(final_mean_anamoly)\n",
    "astroEnd = time_pkg.time()\n",
    "\n",
    "print(\"GPU Time: \", gpuEnd-gpuStart, \" Astro Time: \", astroEnd-gpuEnd)"
   ]
  },
  {
   "cell_type": "code",
   "execution_count": null,
   "id": "2ad78753",
   "metadata": {},
   "outputs": [],
   "source": [
    "avr_radius[quad_step:end_step] = average_scaler(radiuses, start=quad_step, end=end_step)"
   ]
  },
  {
   "cell_type": "code",
   "execution_count": null,
   "id": "f781f9d6",
   "metadata": {},
   "outputs": [],
   "source": [
    "plt.plot(time[0:end_step], avr_radius[0:end_step])"
   ]
  },
  {
   "cell_type": "code",
   "execution_count": null,
   "id": "43daf6b7",
   "metadata": {},
   "outputs": [],
   "source": []
  }
 ],
 "metadata": {
  "kernelspec": {
   "display_name": "Python 3",
   "language": "python",
   "name": "python3"
  },
  "language_info": {
   "codemirror_mode": {
    "name": "ipython",
    "version": 3
   },
   "file_extension": ".py",
   "mimetype": "text/x-python",
   "name": "python",
   "nbconvert_exporter": "python",
   "pygments_lexer": "ipython3",
   "version": "3.8.8"
  }
 },
 "nbformat": 4,
 "nbformat_minor": 5
}
