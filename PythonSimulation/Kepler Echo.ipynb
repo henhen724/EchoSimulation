{
 "cells": [
  {
   "cell_type": "code",
   "execution_count": 10,
   "id": "5162d402",
   "metadata": {},
   "outputs": [],
   "source": [
    "import poliastro as PA\n",
    "import numpy as np\n",
    "import matplotlib.pyplot as plt\n",
    "\n",
    "from astropy import units as u\n",
    "\n",
    "from poliastro.bodies import Earth, Body\n",
    "from poliastro.twobody import Orbit\n",
    "from poliastro.examples import iss\n",
    "\n",
    "from scipy.stats import expon, uniform, norm, triang\n",
    "from scipy.special import comb"
   ]
  },
  {
   "cell_type": "code",
   "execution_count": 3,
   "id": "69721825",
   "metadata": {},
   "outputs": [],
   "source": [
    "# Exponential Distribution\n",
    "size = 100\n",
    "\n",
    "J_1 = expon.rvs(scale=1, loc=0.0, size=size)\n",
    "\n",
    "exponential_var2 = expon.rvs(scale=0.01, loc=0, size=size)\n",
    "J_2 = J_1 - exponential_var2\n",
    "\n",
    "for i in range(0,size):\n",
    "    if J_2[i] < 0.0:\n",
    "        J_2[i] = 0.0001\n",
    "\n",
    "exponential_var3 = expon.rvs(scale=0.1, loc=0, size=size)\n",
    "J_3 = J_2 - exponential_var3\n",
    "\n",
    "for i in range(0,size):\n",
    "    if J_3[i] < -J_2[i]:\n",
    "        J_3[i] = -J_2[i]\n",
    "\n",
    "M = uniform.rvs(loc = -np.pi, scale = np.pi, size=size) * u.rad\n",
    "w = uniform.rvs(loc = -np.pi, scale = np.pi, size=size) * u.rad\n",
    "Omega = uniform.rvs(loc = -np.pi, scale = np.pi, size=size) * u.rad"
   ]
  },
  {
   "cell_type": "code",
   "execution_count": 177,
   "id": "83452ce3",
   "metadata": {},
   "outputs": [],
   "source": [
    "# Near Circular Distribution\n",
    "size = 500\n",
    "r_0 = 1*u.km\n",
    "sigma_e = 0.01*np.sqrt(1*u.km)\n",
    "sigma_a = 0.000*np.sqrt(1*u.km)\n",
    "alpha_over_m = 1*u.km**3/u.s**2 \n",
    "\n",
    "\n",
    "expvar1 = expon.rvs(scale=sigma_e, loc=0, size=size)*np.sqrt(1*u.km)\n",
    "\n",
    "#J_2 = expon.norm(scale=sigma_a, loc=r_0, size=size)\n",
    "J_2 = np.repeat(np.sqrt(r_0), size)\n",
    "\n",
    "J_1 = expvar1 + J_2\n",
    "J_3 = J_2\n",
    "\n",
    "M = uniform.rvs(loc = 0, scale = 2*np.pi, size=size) * u.rad\n",
    "w = uniform.rvs(loc = 0, scale = 2*np.pi, size=size) * u.rad\n",
    "Omega = np.repeat(0.0, size) * u.rad"
   ]
  },
  {
   "cell_type": "code",
   "execution_count": 244,
   "id": "371f4b50",
   "metadata": {},
   "outputs": [],
   "source": [
    "# Near Gausian in R Distribution\n",
    "size = 500\n",
    "r_0 = 1*u.km\n",
    "sigma_r = 0.5*u.kg*u.km**2\n",
    "alpha_over_m = 1*u.km**3/u.s**2 \n",
    "\n",
    "\n",
    "expvar1 = expon.rvs(scale=1, loc=0, size=size)\n",
    "\n",
    "#J_2 = expon.norm(scale=sigma_a, loc=r_0, size=size)\n",
    "J_2 = np.repeat(np.sqrt(r_0), size)\n",
    "\n",
    "J_1 = np.sqrt((np.power(J_2, 2) + np.sqrt(np.power(J_2, 4) + sigma_r*expvar1))/2.0)\n",
    "J_3 = J_2\n",
    "\n",
    "M = uniform.rvs(loc = -2*np.pi, scale = 2*np.pi, size=size) * u.rad\n",
    "w = uniform.rvs(loc = 0, scale = 2*np.pi, size=size) * u.rad\n",
    "Omega = np.repeat(0.0, size) * u.rad"
   ]
  },
  {
   "cell_type": "code",
   "execution_count": 266,
   "id": "6e2d06cb",
   "metadata": {},
   "outputs": [],
   "source": [
    "# Near SHO Distribution\n",
    "# Here I'm setting J_SHO = sqrt(ma^3/2k) * (p^2/2m + k/a^3*x^2)\n",
    "# This leads to J_SHO = sqrt(ka/2)e^2 = sqrt(k/2)(J_1 - J_2^2/J_1)\n",
    "# Then im distributing particles according to exp{- J_SHO/epsilon}\n",
    "\n",
    "size = 1000\n",
    "r_0 = 1*u.km\n",
    "epsilon = 0.001*u.kg*u.km**2/u.s\n",
    "k = 1*u.kg*u.km**3/u.s**2 \n",
    "m = 0.1*u.kg\n",
    "\n",
    "J_SHO = expon.rvs(scale=epsilon, loc=0, size=size)*1*u.kg*u.km**2/u.s\n",
    "\n",
    "#J_2 = expon.norm(scale=sigma_a, loc=r_0, size=size)\n",
    "J_2 = np.repeat(np.sqrt(r_0), size)\n",
    "\n",
    "J_1 = (J_SHO + np.sqrt(np.power(J_SHO, 2) + 4*k*m*np.power(J_2, 2)))/(2.0*np.sqrt(k*m))\n",
    "J_3 = J_2\n",
    "\n",
    "M = uniform.rvs(loc = -2*np.pi, scale = 2*np.pi, size=size) * u.rad\n",
    "w = uniform.rvs(loc = 0, scale = 2*np.pi, size=size) * u.rad\n",
    "Omega = np.repeat(0.0, size) * u.rad"
   ]
  },
  {
   "cell_type": "code",
   "execution_count": 267,
   "id": "f5dab352",
   "metadata": {},
   "outputs": [
    {
     "name": "stdout",
     "output_type": "stream",
     "text": [
      "Omega_0:  3.1622776601683795 1 / s\n",
      "Omega_prime:  -15.0 1 / (kg km2)\n",
      "Decoherance Time:  -418.8790204786391 s\n"
     ]
    }
   ],
   "source": [
    "omega = np.sqrt(k/m)/np.power(r_0, 3.0/2.0)\n",
    "omega_prime = -3/(2*m*np.power(r_0, 2.0))\n",
    "print(\"Omega_0: \", omega)\n",
    "print(\"Omega_prime: \", omega_prime)\n",
    "print(\"Decoherance Time: \", 2*np.pi/(omega_prime*epsilon))\n",
    "\n",
    "# average_radius = 3*sigma_e**2 + 3*sigma_e*sigma_a + 3*sigma_e*np.sqrt(r_0) + 2*sigma_a**2 + 2*sigma_a*np.sqrt(r_0) + r_0\n",
    "# print(\"Inital average radius: \", average_radius)"
   ]
  },
  {
   "cell_type": "code",
   "execution_count": 268,
   "id": "9b3f002e",
   "metadata": {},
   "outputs": [],
   "source": [
    "a = np.square(J_1)\n",
    "ecc = np.sqrt(1 - np.square(J_2/J_1)) * u.one\n",
    "inc = np.arccos(J_3/J_2)\n",
    "\n",
    "GM = Body(None, k/m, \"Central Body\")"
   ]
  },
  {
   "cell_type": "code",
   "execution_count": 269,
   "id": "a3297afa",
   "metadata": {},
   "outputs": [
    {
     "name": "stderr",
     "output_type": "stream",
     "text": [
      "C:\\Users\\henhen724\\anaconda3\\lib\\site-packages\\astropy\\units\\decorators.py:252: UserWarning: Wrapping true anomaly to -π <= nu < π\n",
      "  return_ = wrapped_function(*func_args, **func_kwargs)\n"
     ]
    }
   ],
   "source": [
    "orb = [None]*size\n",
    "for i in range(0, size):\n",
    "    orb[i] = Orbit.from_classical(GM, a[i], ecc[i], inc[i], Omega[i], w[i], M[i])"
   ]
  },
  {
   "cell_type": "code",
   "execution_count": 270,
   "id": "900862e7",
   "metadata": {},
   "outputs": [
    {
     "data": {
      "text/plain": [
       "<matplotlib.collections.PathCollection at 0x23f2cb5dfa0>"
      ]
     },
     "execution_count": 270,
     "metadata": {},
     "output_type": "execute_result"
    },
    {
     "data": {
      "image/png": "[encoded data removed]",
      "text/plain": [
       "<Figure size 720x720 with 4 Axes>"
      ]
     },
     "metadata": {
      "needs_background": "light"
     },
     "output_type": "display_data"
    }
   ],
   "source": [
    "r = np.zeros(size)\n",
    "p = np.zeros(size)\n",
    "\n",
    "for i in range(0, size):\n",
    "    r[i] = np.linalg.norm(orb[i].r)/(1*u.km)\n",
    "    unit_r = orb[i].r/(r[i]*u.km)\n",
    "    p[i] = np.dot(unit_r, orb[i].v*u.second/u.km)\n",
    "fig, ((ax1, ax2), (ax3, ax4)) = plt.subplots(2,2, figsize=(10, 10))\n",
    "ax1.hist(r, bins=25)\n",
    "ax2.hist(p, bins=25)\n",
    "ax3.scatter(r, p, s=0.5)"
   ]
  },
  {
   "cell_type": "code",
   "execution_count": 271,
   "id": "47f51f74",
   "metadata": {},
   "outputs": [
    {
     "data": {
      "text/plain": [
       "(array([31., 50., 44., 48., 43., 42., 41., 46., 37., 38., 40., 35., 40.,\n",
       "        44., 44., 52., 37., 36., 43., 31., 43., 35., 30., 35., 35.]),\n",
       " array([-3.12953971, -2.87926571, -2.62899172, -2.37871773, -2.12844373,\n",
       "        -1.87816974, -1.62789574, -1.37762175, -1.12734775, -0.87707376,\n",
       "        -0.62679976, -0.37652577, -0.12625178,  0.12402222,  0.37429621,\n",
       "         0.62457021,  0.8748442 ,  1.1251182 ,  1.37539219,  1.62566618,\n",
       "         1.87594018,  2.12621417,  2.37648817,  2.62676216,  2.87703616,\n",
       "         3.12731015]),\n",
       " <BarContainer object of 25 artists>)"
      ]
     },
     "execution_count": 271,
     "metadata": {},
     "output_type": "execute_result"
    },
    {
     "data": {
      "image/png": "[encoded data removed]",
      "text/plain": [
       "<Figure size 432x288 with 2 Axes>"
      ]
     },
     "metadata": {
      "needs_background": "light"
     },
     "output_type": "display_data"
    }
   ],
   "source": [
    "nu = np.zeros(size)\n",
    "\n",
    "for i in range(0, size):\n",
    "    nu[i] = orb[i].nu/u.rad\n",
    "fig, (ax1, ax2) = plt.subplots(2)\n",
    "ax1.hist(nu, bins=25)"
   ]
  },
  {
   "cell_type": "code",
   "execution_count": 272,
   "id": "798e3c5d",
   "metadata": {},
   "outputs": [
    {
     "data": {
      "text/plain": [
       "<matplotlib.collections.PathCollection at 0x23f2fbf8ee0>"
      ]
     },
     "execution_count": 272,
     "metadata": {},
     "output_type": "execute_result"
    },
    {
     "data": {
      "image/png": "[encoded data removed]",
      "text/plain": [
       "<Figure size 432x288 with 1 Axes>"
      ]
     },
     "metadata": {
      "needs_background": "light"
     },
     "output_type": "display_data"
    }
   ],
   "source": [
    "x = np.empty(size)*u.km\n",
    "y = np.empty(size)*u.km\n",
    "for i in range(0, size):\n",
    "    x[i] = orb[i].r[0]\n",
    "    y[i] = orb[i].r[1]\n",
    "    \n",
    "plt.scatter(x, y)"
   ]
  },
  {
   "cell_type": "code",
   "execution_count": 273,
   "id": "96d31cae",
   "metadata": {},
   "outputs": [],
   "source": [
    "timestep = 1*u.second\n",
    "\n",
    "time_before_kick = 100*u.second\n",
    "time_after_kick = 500*u.second\n",
    "time_after_quad_kick = 2000*u.second\n",
    "\n",
    "steps_before_kick = int(time_before_kick/timestep)\n",
    "steps_after_kick = int(time_after_kick/timestep)\n",
    "steps_after_quad_kick = int(time_after_quad_kick/timestep)\n",
    "\n",
    "total_time = time_before_kick + time_after_kick + time_after_quad_kick\n",
    "total_steps = steps_before_kick + steps_after_kick + steps_after_quad_kick\n",
    "\n",
    "time = np.linspace(0.0*u.second, total_time, total_steps)\n",
    "\n",
    "avr_radius = np.zeros(total_steps) * u.km\n",
    "\n",
    "radiuses = np.zeros((size, total_steps)) * u.km\n",
    "velocities = np.zeros((size, total_steps)) * u.km/u.second\n"
   ]
  },
  {
   "cell_type": "code",
   "execution_count": 274,
   "id": "e0988ff9",
   "metadata": {},
   "outputs": [],
   "source": [
    "CONST_ROWS = 13\n",
    "KEPLER_EQ_INV_CONSTANTS = np.zeros((CONST_ROWS + 1, int(CONST_ROWS/2) + 1))\n",
    "\n",
    "KEPLER_EQ_INV_CONSTANTS[0, 0] = 1.0\n",
    "\n",
    "for n in range(1, CONST_ROWS+1):\n",
    "    for k in range(0, int(np.ceil(n/2))):\n",
    "        KEPLER_EQ_INV_CONSTANTS[n, k] = np.power(-1, k)*comb(n, k)*np.power(n/2.0-k, n-1)/np.math.factorial(n)*u.one\n",
    "        if KEPLER_EQ_INV_CONSTANTS[n, k] == 0:\n",
    "            print(\"recived a zero for \", n, \",\", k)\n",
    "        if KEPLER_EQ_INV_CONSTANTS[n, k] > 1.0:\n",
    "            print(\"recived \", KEPLER_EQ_INV_CONSTANTS[n, k],\" for \", n, \",\", k)\n",
    "def nu_to_E(nu, e):\n",
    "    return 2*np.arctan(np.sqrt((1 - e)/(1 + e))*np.tan(nu/2.0))\n",
    "\n",
    "def E_to_M(E, e):\n",
    "    return E - e*np.sin(E)*u.rad\n",
    "    \n",
    "def M_to_E(M, e):\n",
    "    series = np.zeros(M.shape)*u.rad\n",
    "    sins_of_M = np.sin(np.outer(np.arange(0, CONST_ROWS+1), M))*u.rad\n",
    "    for n in range(1, CONST_ROWS):    \n",
    "        for k in range(0, int(np.ceil(n/2))):\n",
    "            series += KEPLER_EQ_INV_CONSTANTS[n, k]*sins_of_M[n-2*k]*np.power(e, n)\n",
    "    return M + series\n",
    "    \n",
    "def propogate(orb, time_of_flight, timestep):\n",
    "    num_of_steps = int(time_of_flight/timestep)\n",
    "    time_array = np.linspace(0.0, time_of_flight, num_of_steps)\n",
    "    size = len(orb)\n",
    "    radiuses = np.zeros((size, num_of_steps))*u.km\n",
    "    radial_momenta = np.zeros((size, num_of_steps))*u.km/u.s\n",
    "    final_mean_anamoly = np.zeros(size)*u.rad\n",
    "    for particle in range(0, size):\n",
    "        e = orb[particle].ecc\n",
    "        initial_mean_anamoly = E_to_M(nu_to_E(orb[particle].nu, e), e)\n",
    "        mean_anamoly = ((time_array/orb[particle].period) % 1)*2*np.pi*u.rad + initial_mean_anamoly\n",
    "        final_mean_anamoly[particle] = mean_anamoly[num_of_steps - 1]\n",
    "        eccentric_anamoly = M_to_E(mean_anamoly, e)\n",
    "        a = orb[particle].a\n",
    "        radiuses[particle] = a*(1 - e*np.cos(eccentric_anamoly))\n",
    "        radial_momenta[particle] = 2*np.pi*a*e*np.sin(eccentric_anamoly)/(orb[particle].period*(1 - e*np.cos(eccentric_anamoly)))\n",
    "    return radiuses, radial_momenta, final_mean_anamoly"
   ]
  },
  {
   "cell_type": "code",
   "execution_count": 275,
   "id": "2dd19f88",
   "metadata": {},
   "outputs": [],
   "source": [
    "radiuses[:,0:steps_before_kick], velocities[:,0:steps_before_kick], final_mean_anamoly = propogate(orb, time_before_kick, timestep)\n",
    "for i in range(0, len(orb)):\n",
    "    orb[i] = Orbit.from_classical(GM, a[i], ecc[i], inc[i], Omega[i], w[i], final_mean_anamoly[i])"
   ]
  },
  {
   "cell_type": "code",
   "execution_count": 276,
   "id": "c3b9a541",
   "metadata": {},
   "outputs": [],
   "source": [
    "avr_radius[0:steps_before_kick] = np.einsum('ij->j',radiuses[:,0:steps_before_kick])/size"
   ]
  },
  {
   "cell_type": "code",
   "execution_count": 277,
   "id": "b72138db",
   "metadata": {},
   "outputs": [
    {
     "data": {
      "text/plain": [
       "[<matplotlib.lines.Line2D at 0x23f2be11d30>]"
      ]
     },
     "execution_count": 277,
     "metadata": {},
     "output_type": "execute_result"
    },
    {
     "data": {
      "image/png": "[encoded data removed]",
      "text/plain": [
       "<Figure size 432x288 with 1 Axes>"
      ]
     },
     "metadata": {
      "needs_background": "light"
     },
     "output_type": "display_data"
    }
   ],
   "source": [
    "plt.plot(time[0:steps_before_kick], avr_radius[0:steps_before_kick])"
   ]
  },
  {
   "cell_type": "code",
   "execution_count": 278,
   "id": "60ca4ad1",
   "metadata": {},
   "outputs": [],
   "source": [
    "unit_r = np.empty(3) \n",
    "newR = np.empty(3)\n",
    "\n",
    "kickStrength = 0.05*u.km\n",
    "\n",
    "for i in range(0, size):\n",
    "        if orb[i].energy >= 0:\n",
    "            print(orb[i], \" is ALREADY not a bound orbit BEFORE KICKING.\")\n",
    "        old_radius = np.linalg.norm(orb[i].r)\n",
    "        unit_r = orb[i].r/old_radius\n",
    "        old_r_0 = orb[i].a*(1 - np.square(orb[i].ecc))\n",
    "        newPosition = orb[i].r + kickStrength*unit_r\n",
    "        oldThetaVelocity = orb[i].v - np.dot(orb[i].v, unit_r)*unit_r\n",
    "        newThetaVelocity = old_radius/(old_radius + kickStrength)*oldThetaVelocity\n",
    "        newVelocity = np.dot(orb[i].v, unit_r)*unit_r + newThetaVelocity\n",
    "        orb[i] = Orbit.from_vectors(GM, newPosition, newVelocity)\n",
    "        new_r_0 = orb[i].a*(1 - np.square(orb[i].ecc))\n",
    "        if old_r_0 - new_r_0 > 10**-12*u.km:\n",
    "            print(\"L_2 before and after do not match: \", old_r_0, \"\\t\", new_r_0)\n",
    "        if orb[i].energy >= 0:\n",
    "            print(orb[i], \" is not a bound orbit.\")\n",
    "        if (orb[i].r != newPosition).any():\n",
    "            print(\"r got missassigned.\")\n",
    "#         if (np.linalg.norm(orb[i].r) > old_radius):\n",
    "#             print(\"The new radius is greater than the original.\", np.linalg.norm(orb[i].r), old_radius)\n",
    "#             print(orb[i].r, old_radius)\n",
    "#             print(\"Radius should be\",np.linalg.norm(newPosition) )"
   ]
  },
  {
   "cell_type": "code",
   "execution_count": 279,
   "id": "332dc297",
   "metadata": {},
   "outputs": [
    {
     "name": "stderr",
     "output_type": "stream",
     "text": [
      "C:\\Users\\henhen724\\anaconda3\\lib\\site-packages\\astropy\\units\\decorators.py:252: UserWarning: Wrapping true anomaly to -π <= nu < π\n",
      "  return_ = wrapped_function(*func_args, **func_kwargs)\n"
     ]
    }
   ],
   "source": [
    "radiuses[:,steps_before_kick:steps_before_kick+steps_after_kick], velocities[:,steps_before_kick:steps_before_kick+steps_after_kick], final_mean_anamoly = propogate(orb, time_after_kick, timestep)\n",
    "for i in range(0, len(orb)):\n",
    "    orb[i] = Orbit.from_classical(GM, a[i], ecc[i], inc[i], Omega[i], w[i], final_mean_anamoly[i])"
   ]
  },
  {
   "cell_type": "code",
   "execution_count": 280,
   "id": "5aa6083d",
   "metadata": {},
   "outputs": [],
   "source": [
    "avr_radius[steps_before_kick:steps_before_kick+steps_after_kick] = np.einsum('ij->j',radiuses[:,steps_before_kick:steps_before_kick+steps_after_kick])/size"
   ]
  },
  {
   "cell_type": "code",
   "execution_count": 281,
   "id": "59a5ef17",
   "metadata": {},
   "outputs": [
    {
     "data": {
      "text/plain": [
       "[<matplotlib.lines.Line2D at 0x23f2b293580>]"
      ]
     },
     "execution_count": 281,
     "metadata": {},
     "output_type": "execute_result"
    },
    {
     "data": {
      "image/png": "[encoded data removed]",
      "text/plain": [
       "<Figure size 432x288 with 1 Axes>"
      ]
     },
     "metadata": {
      "needs_background": "light"
     },
     "output_type": "display_data"
    }
   ],
   "source": [
    "plt.plot(time[0:steps_before_kick+steps_after_kick], avr_radius[0:steps_before_kick+steps_after_kick])"
   ]
  },
  {
   "cell_type": "code",
   "execution_count": 377,
   "id": "b5262f53",
   "metadata": {},
   "outputs": [],
   "source": [
    "unit_r = np.empty(3) \n",
    "newR = np.empty(3)\n",
    "\n",
    "quad_strength = 0.01 * u.second**-1\n",
    "radius_offset = r_0\n",
    "\n",
    "for i in range(0, size):\n",
    "        if orb[i].energy >= 0:\n",
    "            print(orb[i], \" is ALREADY not a bound orbit BEFORE KICKING.\")\n",
    "        old_radius = np.linalg.norm(orb[i].r)\n",
    "        unit_r = orb[i].r/old_radius\n",
    "        newVelocity = orb[i].v + quad_strength*(old_radius - radius_offset)*unit_r\n",
    "        orb[i] = Orbit.from_vectors(GM, orb[i].r, newVelocity)\n",
    "        if orb[i].energy >= 0:\n",
    "            print(orb[i], \" is not a bound orbit.\")\n",
    "#         if (np.linalg.norm(orb[i].r) > old_radius):\n",
    "#             print(\"The new radius is greater than the original.\", np.linalg.norm(orb[i].r), old_radius)\n",
    "#             print(orb[i].r, old_radius)\n",
    "#             print(\"Radius should be\",np.linalg.norm(newPosition) )"
   ]
  },
  {
   "cell_type": "code",
   "execution_count": 283,
   "id": "6b9ab110",
   "metadata": {},
   "outputs": [
    {
     "name": "stderr",
     "output_type": "stream",
     "text": [
      "C:\\Users\\henhen724\\anaconda3\\lib\\site-packages\\astropy\\units\\decorators.py:252: UserWarning: Wrapping true anomaly to -π <= nu < π\n",
      "  return_ = wrapped_function(*func_args, **func_kwargs)\n"
     ]
    }
   ],
   "source": [
    "radiuses[:,steps_before_kick+steps_after_kick:total_steps], velocities[:,steps_before_kick+steps_after_kick:total_steps], final_mean_anamoly = propogate(orb, time_after_quad_kick, timestep)\n",
    "for i in range(0, len(orb)):\n",
    "    orb[i] = Orbit.from_classical(GM, a[i], ecc[i], inc[i], Omega[i], w[i], final_mean_anamoly[i])"
   ]
  },
  {
   "cell_type": "code",
   "execution_count": 284,
   "id": "f781f9d6",
   "metadata": {},
   "outputs": [
    {
     "data": {
      "text/plain": [
       "[<matplotlib.lines.Line2D at 0x23f2c393df0>]"
      ]
     },
     "execution_count": 284,
     "metadata": {},
     "output_type": "execute_result"
    },
    {
     "data": {
      "image/png": "[encoded data removed]",
      "text/plain": [
       "<Figure size 432x288 with 1 Axes>"
      ]
     },
     "metadata": {
      "needs_background": "light"
     },
     "output_type": "display_data"
    }
   ],
   "source": [
    "plt.plot(time[0:total_steps], avr_radius[0:total_steps])"
   ]
  },
  {
   "cell_type": "code",
   "execution_count": null,
   "id": "43daf6b7",
   "metadata": {},
   "outputs": [],
   "source": []
  }
 ],
 "metadata": {
  "kernelspec": {
   "display_name": "Python 3",
   "language": "python",
   "name": "python3"
  },
  "language_info": {
   "codemirror_mode": {
    "name": "ipython",
    "version": 3
   },
   "file_extension": ".py",
   "mimetype": "text/x-python",
   "name": "python",
   "nbconvert_exporter": "python",
   "pygments_lexer": "ipython3",
   "version": "3.8.8"
  }
 },
 "nbformat": 4,
 "nbformat_minor": 5
}
