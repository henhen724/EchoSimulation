{
 "cells": [
  {
   "cell_type": "code",
   "execution_count": 21,
   "id": "9c79d085",
   "metadata": {},
   "outputs": [],
   "source": [
    "import numpy as np\n",
    "import matplotlib.pyplot as plt\n",
    "import scipy.special as spl\n",
    "from scipy.spatial.transform import Rotation\n",
    "%matplotlib inline"
   ]
  },
  {
   "cell_type": "code",
   "execution_count": 22,
   "id": "d654e5c4",
   "metadata": {},
   "outputs": [],
   "source": [
    "def checkTypes(phaseVec):\n",
    "    if not isinstance(phaseVec, np.ndarray):\n",
    "        print(\"The phase vector must be a numpy array.\")\n",
    "        return False\n",
    "        return False\n",
    "    if not phaseVec.shape[0] == 6:\n",
    "        print(\"The phase vector must be a 6xN matrix, where N is the number of particles\")\n",
    "        return False\n",
    "    return True\n",
    "\n",
    "def newtonsForceLaw(phaseVec, GM=1): # takes in a phaseVec 6xN and outputs a force 3xN, m=1 always\n",
    "    norms = np.linalg.norm(phaseVec[:3,], axis = 0)\n",
    "    return -phaseVec[:3,]/np.power(norms, 3)\n",
    "\n",
    "def turn(phaseVec, n=1, timestep=0.001):\n",
    "    if not checkTypes(phaseVec):\n",
    "        return\n",
    "    newPhaseVec =  np.empty((6, phaseVec.shape[1]))\n",
    "    force = newtonsForceLaw(phaseVec)\n",
    "    \n",
    "    newPhaseVec[:3,] = phaseVec[:3,] + timestep*phaseVec[3:,]\n",
    "    newPhaseVec[3:,] = phaseVec[3:,] + timestep*force\n",
    "    return newPhaseVec"
   ]
  },
  {
   "cell_type": "code",
   "execution_count": 15,
   "id": "17ae8e7a",
   "metadata": {},
   "outputs": [],
   "source": [
    "class OrbitType:\n",
    "    ELLIPS = 0\n",
    "    HYPER = 1\n",
    "\n",
    "def energy(phaseVec, GM=1):\n",
    "    norms = np.linalg.norm(phaseVec[:3,], axis = 0)\n",
    "    return np.square(np.linalg.norm(phaseVec[3:,], axis=0))/2 - GM/norms\n",
    "\n",
    "def angular_momentum(phaseVec):\n",
    "    return np.cross(phaseVec[:3,], phaseVec[3:,], axisc=0)\n",
    "\n",
    "def radius(phaseVec):\n",
    "    return np.square(np.linalg.norm(phaseVec[:3,], axis=0))\n",
    "\n",
    "def spherical_angles(phaseVec):\n",
    "    return np.arctan(phaseVec[1,]/phaseVec[0,]), np.arctan(phaseVec[2,]/np.sqrt(np.square(phaseVec[1,]) + np.square(phaseVec[0,])))\n",
    "    \n",
    "def findOribtalPerameters(phaseVec, GM = 1, time = 0):\n",
    "    L = angular_momentum(phaseVec)\n",
    "    L_2 = np.square(np.linalg.norm(L, axis=0))\n",
    "    L_z = L[2,]\n",
    "    E = energy(phaseVec)\n",
    "    \n",
    "    ORBIT_TYPE = E >= 1\n",
    "    \n",
    "    # Action Perameters\n",
    "    \n",
    "    a = -1/(2*E)\n",
    "    \n",
    "    e = np.sqrt(1 - L_2/a)\n",
    "    \n",
    "    theta_0 = np.arcsin(L_z/np.sqrt(L_2))\n",
    "    \n",
    "    # Initial Action Perameters\n",
    "    \n",
    "    Ellistic_anomily = np.arccos((1 - radius(phaseVec)/a)/e)\n",
    "    \n",
    "    M_0 = Ellistic_anomily - e*np.sin(Ellistic_anomily)\n",
    "    \n",
    "    f = 2*np.arctan(np.sqrt((1 + e)/(1 - e)) * np.tan(Ellistic_anomily/2))\n",
    "    \n",
    "    theta, phi = spherical_angles(phaseVec)\n",
    "    \n",
    "    unit_phi = np.array([np.cos(phi)*np.cos(theta), np.cos(phi)*np.sin(theta), np.sin(phi)])\n",
    "    \n",
    "    theta_sign = np.sign(np.einsum('ij,ij->j', phaseVec[3:,], unit_phi))\n",
    "    \n",
    "    Arg_Peri = -f + theta_sign*np.arcsin(np.cos(theta)/np.cos(theta_0))\n",
    "    \n",
    "    Long_of_Ascend = np.sign(L_z)*phi - theta_sign*np.arcsin(np.tan(theta_0)/np.cos(theta))\n",
    "    \n",
    "    T_0 = time\n",
    "    \n",
    "    return ORBIT_TYPE, a, e, theta_0, M_0, Arg_Peri, Long_of_Ascend, T_0\n",
    "    "
   ]
  },
  {
   "cell_type": "code",
   "execution_count": 20,
   "id": "07bf545a",
   "metadata": {},
   "outputs": [
    {
     "name": "stdout",
     "output_type": "stream",
     "text": [
      "[-0.495 -0.175 -0.115]\n",
      "[-0.49174536 -0.17756738 -0.11565156]\n"
     ]
    }
   ],
   "source": [
    "phaseVec=np.array([[2,0,0], [0,5,0], [0,0,8], [0,-0.1,0], [0.2,0.1,0], [0.1,0,-0.1]])\n",
    "print(energy(phaseVec))\n",
    "for i in range(0, 1000):\n",
    "    phaseVec = turn(phaseVec)\n",
    "print(energy(phaseVec))"
   ]
  },
  {
   "cell_type": "code",
   "execution_count": 14,
   "id": "b9547fc8",
   "metadata": {},
   "outputs": [
    {
     "name": "stdout",
     "output_type": "stream",
     "text": [
      "[[ 1.87368491  0.          0.        ]\n",
      " [ 0.          4.98017483  0.        ]\n",
      " [ 0.          0.          7.99226323]\n",
      " [-0.26083726  0.          0.        ]\n",
      " [ 0.         -0.04010393  0.        ]\n",
      " [ 0.          0.         -0.01563488]]\n",
      "[0.06803608 0.00160833 0.00024445]\n"
     ]
    }
   ],
   "source": [
    "print(phaseVec)\n",
    "print(np.einsum('ij, ij->i', phaseVec[3:,], phaseVec[3:,]))"
   ]
  },
  {
   "cell_type": "code",
   "execution_count": null,
   "id": "8a1f8ef1",
   "metadata": {},
   "outputs": [],
   "source": []
  }
 ],
 "metadata": {
  "kernelspec": {
   "display_name": "Python 3",
   "language": "python",
   "name": "python3"
  },
  "language_info": {
   "codemirror_mode": {
    "name": "ipython",
    "version": 3
   },
   "file_extension": ".py",
   "mimetype": "text/x-python",
   "name": "python",
   "nbconvert_exporter": "python",
   "pygments_lexer": "ipython3",
   "version": "3.8.8"
  }
 },
 "nbformat": 4,
 "nbformat_minor": 5
}
