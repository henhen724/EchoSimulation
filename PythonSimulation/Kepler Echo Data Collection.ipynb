{
 "cells": [
  {
   "cell_type": "code",
   "execution_count": 1,
   "metadata": {},
   "outputs": [],
   "source": [
    "import poliastro as PA\n",
    "import numpy as np\n",
    "import matplotlib.pyplot as plt\n",
    "import time as time_pkg\n",
    "\n",
    "from astropy import units as u\n",
    "\n",
    "\n",
    "from scipy.stats import expon, uniform\n",
    "\n",
    "from lib.GPUKeplerSimulation import propagate, average_scaler, average_3vector\n",
    "from lib.DisplaySimulation import displaySimulation\n",
    "from lib.AsteroidBelt import generateNearSHODistribution"
   ]
  },
  {
   "cell_type": "code",
   "execution_count": 2,
   "metadata": {},
   "outputs": [],
   "source": [
    "def runOneEchoAmplitudeMeasurement(size, k, m, r_0, epsilon, dipoleKickStrength, quadrapoleKickStrength, tau, deltaTau, timestep):\n",
    "\n",
    "    belt = generateNearSHODistribution(size, k, m, r_0, epsilon)\n",
    "\n",
    "    belt.radial_kick(dipoleKickStrength)\n",
    "\n",
    "    radiuses, velocities, final_mean_anamoly = propagate(belt, tau, tau/2)\n",
    "    belt.setMeanAnamoly(final_mean_anamoly)\n",
    "\n",
    "    belt.radial_quadrapole_kick(quadrapoleKickStrength, r_0)\n",
    "\n",
    "    radiuses, velocities, final_mean_anamoly = propagate(belt, tau-deltaTau, (tau-deltaTau)/2)\n",
    "    belt.setMeanAnamoly(final_mean_anamoly)\n",
    "\n",
    "    radiuses, velocities, final_mean_anamoly = propagate(belt, 2*deltaTau, timestep)\n",
    "\n",
    "    avr_radius = average_scaler(radiuses)\n",
    "\n",
    "    avr_radius_deviation = np.absolute(avr_radius - r_0)\n",
    "\n",
    "    echoAmp = max(avr_radius_deviation)\n",
    "\n",
    "    echoIndex = np.argmax(avr_radius_deviation)\n",
    "\n",
    "    return echoAmp, echoIndex*timestep + tau-deltaTau, avr_radius\n"
   ]
  },
  {
   "cell_type": "code",
   "execution_count": 3,
   "metadata": {},
   "outputs": [],
   "source": [
    "size = 20000\n",
    "k = 0.00112*u.kg*u.km**3/u.s**2 \n",
    "m = 0.1*u.kg\n",
    "r_0 = 0.05*u.km\n",
    "epsilon = 0.0000001*u.kg*u.km**2/u.s\n",
    "deltaTau = 300*u.second\n",
    "timestep = 0.5*u.second\n",
    "tau = 1000*u.second"
   ]
  },
  {
   "cell_type": "code",
   "execution_count": 7,
   "metadata": {},
   "outputs": [
    {
     "name": "stdout",
     "output_type": "stream",
     "text": [
      "0.09999999999999999\n"
     ]
    }
   ],
   "source": [
    "print(epsilon.value*(10**6))"
   ]
  },
  {
   "cell_type": "code",
   "execution_count": 8,
   "metadata": {},
   "outputs": [
    {
     "ename": "KeyboardInterrupt",
     "evalue": "",
     "output_type": "error",
     "traceback": [
      "\u001b[1;31m---------------------------------------------------------------------------\u001b[0m",
      "\u001b[1;31mKeyboardInterrupt\u001b[0m                         Traceback (most recent call last)",
      "\u001b[1;32m<ipython-input-8-471ca0a385d0>\u001b[0m in \u001b[0;36m<module>\u001b[1;34m\u001b[0m\n\u001b[0;32m      5\u001b[0m     \u001b[1;32mfor\u001b[0m \u001b[0mquadKickStrength\u001b[0m \u001b[1;32min\u001b[0m \u001b[0mquadKickStrengths\u001b[0m\u001b[1;33m:\u001b[0m\u001b[1;33m\u001b[0m\u001b[1;33m\u001b[0m\u001b[0m\n\u001b[0;32m      6\u001b[0m         \u001b[1;32mfor\u001b[0m \u001b[0mj\u001b[0m \u001b[1;32min\u001b[0m \u001b[0mrange\u001b[0m\u001b[1;33m(\u001b[0m\u001b[1;36m0\u001b[0m\u001b[1;33m,\u001b[0m \u001b[1;36m10\u001b[0m\u001b[1;33m)\u001b[0m\u001b[1;33m:\u001b[0m\u001b[1;33m\u001b[0m\u001b[1;33m\u001b[0m\u001b[0m\n\u001b[1;32m----> 7\u001b[1;33m             \u001b[0mechoAmp\u001b[0m\u001b[1;33m,\u001b[0m \u001b[0mechoTime\u001b[0m\u001b[1;33m,\u001b[0m \u001b[0mavr_radius\u001b[0m \u001b[1;33m=\u001b[0m \u001b[0mrunOneEchoAmplitudeMeasurement\u001b[0m\u001b[1;33m(\u001b[0m\u001b[0msize\u001b[0m\u001b[1;33m,\u001b[0m \u001b[0mk\u001b[0m\u001b[1;33m,\u001b[0m \u001b[0mm\u001b[0m\u001b[1;33m,\u001b[0m \u001b[0mr_0\u001b[0m\u001b[1;33m,\u001b[0m \u001b[0mepsilon\u001b[0m\u001b[1;33m,\u001b[0m \u001b[0mdipoleKickStrength\u001b[0m\u001b[1;33m,\u001b[0m \u001b[0mquadKickStrength\u001b[0m\u001b[1;33m,\u001b[0m \u001b[0mtau\u001b[0m\u001b[1;33m,\u001b[0m \u001b[0mdeltaTau\u001b[0m\u001b[1;33m,\u001b[0m \u001b[0mtimestep\u001b[0m\u001b[1;33m)\u001b[0m\u001b[1;33m\u001b[0m\u001b[1;33m\u001b[0m\u001b[0m\n\u001b[0m\u001b[0;32m      8\u001b[0m \u001b[1;33m\u001b[0m\u001b[0m\n\u001b[0;32m      9\u001b[0m             \u001b[1;32mwith\u001b[0m \u001b[0mopen\u001b[0m\u001b[1;33m(\u001b[0m\u001b[1;34m'data/echo_amp.csv'\u001b[0m\u001b[1;33m,\u001b[0m\u001b[1;34m'a'\u001b[0m\u001b[1;33m)\u001b[0m \u001b[1;32mas\u001b[0m \u001b[0mcsvfile\u001b[0m\u001b[1;33m:\u001b[0m\u001b[1;33m\u001b[0m\u001b[1;33m\u001b[0m\u001b[0m\n",
      "\u001b[1;32m<ipython-input-2-f8f4051ad6fc>\u001b[0m in \u001b[0;36mrunOneEchoAmplitudeMeasurement\u001b[1;34m(size, k, m, r_0, epsilon, dipoleKickStrength, quadrapoleKickStrength, tau, deltaTau, timestep)\u001b[0m\n\u001b[0;32m     13\u001b[0m     \u001b[0mbelt\u001b[0m\u001b[1;33m.\u001b[0m\u001b[0msetMeanAnamoly\u001b[0m\u001b[1;33m(\u001b[0m\u001b[0mfinal_mean_anamoly\u001b[0m\u001b[1;33m)\u001b[0m\u001b[1;33m\u001b[0m\u001b[1;33m\u001b[0m\u001b[0m\n\u001b[0;32m     14\u001b[0m \u001b[1;33m\u001b[0m\u001b[0m\n\u001b[1;32m---> 15\u001b[1;33m     \u001b[0mradiuses\u001b[0m\u001b[1;33m,\u001b[0m \u001b[0mvelocities\u001b[0m\u001b[1;33m,\u001b[0m \u001b[0mfinal_mean_anamoly\u001b[0m \u001b[1;33m=\u001b[0m \u001b[0mpropagate\u001b[0m\u001b[1;33m(\u001b[0m\u001b[0mbelt\u001b[0m\u001b[1;33m,\u001b[0m \u001b[1;36m2\u001b[0m\u001b[1;33m*\u001b[0m\u001b[0mdeltaTau\u001b[0m\u001b[1;33m,\u001b[0m \u001b[0mtimestep\u001b[0m\u001b[1;33m)\u001b[0m\u001b[1;33m\u001b[0m\u001b[1;33m\u001b[0m\u001b[0m\n\u001b[0m\u001b[0;32m     16\u001b[0m \u001b[1;33m\u001b[0m\u001b[0m\n\u001b[0;32m     17\u001b[0m     \u001b[0mavr_radius\u001b[0m \u001b[1;33m=\u001b[0m \u001b[0maverage_scaler\u001b[0m\u001b[1;33m(\u001b[0m\u001b[0mradiuses\u001b[0m\u001b[1;33m)\u001b[0m\u001b[1;33m\u001b[0m\u001b[1;33m\u001b[0m\u001b[0m\n",
      "\u001b[1;32mc:\\Users\\henhen724\\Documents\\GitRep\\EchoSimulation\\PythonSimulation\\lib\\GPUKeplerSimulation.py\u001b[0m in \u001b[0;36mpropagate\u001b[1;34m(belt, time_of_flight, timestep)\u001b[0m\n\u001b[0;32m    210\u001b[0m         \u001b[0mend_index\u001b[0m \u001b[1;33m=\u001b[0m \u001b[0mmin\u001b[0m\u001b[1;33m(\u001b[0m\u001b[1;33m(\u001b[0m\u001b[0mi\u001b[0m\u001b[1;33m+\u001b[0m\u001b[1;36m1\u001b[0m\u001b[1;33m)\u001b[0m\u001b[1;33m*\u001b[0m\u001b[0mmax_steps_in_one_gpu_memory\u001b[0m\u001b[1;33m,\u001b[0m \u001b[0mnum_of_steps\u001b[0m\u001b[1;33m)\u001b[0m\u001b[1;33m\u001b[0m\u001b[1;33m\u001b[0m\u001b[0m\n\u001b[0;32m    211\u001b[0m \u001b[1;33m\u001b[0m\u001b[0m\n\u001b[1;32m--> 212\u001b[1;33m         radiuses[:, start_index:end_index], radial_momentum[:, start_index:end_index], final_mean_anamoly = _propagate_single_gpu_memory_(\n\u001b[0m\u001b[0;32m    213\u001b[0m             belt, time_array[start_index:end_index], end_index-start_index)\n\u001b[0;32m    214\u001b[0m \u001b[1;33m\u001b[0m\u001b[0m\n",
      "\u001b[1;32mc:\\Users\\henhen724\\Documents\\GitRep\\EchoSimulation\\PythonSimulation\\lib\\GPUKeplerSimulation.py\u001b[0m in \u001b[0;36m_propagate_single_gpu_memory_\u001b[1;34m(belt, time_array, num_of_steps)\u001b[0m\n\u001b[0;32m    180\u001b[0m     \u001b[1;31m#       \" E Calc: \", before_ret - before_E_calc)\u001b[0m\u001b[1;33m\u001b[0m\u001b[1;33m\u001b[0m\u001b[1;33m\u001b[0m\u001b[0m\n\u001b[0;32m    181\u001b[0m \u001b[1;33m\u001b[0m\u001b[0m\n\u001b[1;32m--> 182\u001b[1;33m     \u001b[1;32mreturn\u001b[0m \u001b[0mcp\u001b[0m\u001b[1;33m.\u001b[0m\u001b[0masnumpy\u001b[0m\u001b[1;33m(\u001b[0m\u001b[0mradiuses\u001b[0m\u001b[1;33m)\u001b[0m\u001b[1;33m*\u001b[0m\u001b[0mu\u001b[0m\u001b[1;33m.\u001b[0m\u001b[0mkm\u001b[0m\u001b[1;33m,\u001b[0m \u001b[0mcp\u001b[0m\u001b[1;33m.\u001b[0m\u001b[0masnumpy\u001b[0m\u001b[1;33m(\u001b[0m\u001b[0mradial_momenta\u001b[0m\u001b[1;33m)\u001b[0m\u001b[1;33m*\u001b[0m\u001b[0mu\u001b[0m\u001b[1;33m.\u001b[0m\u001b[0mkm\u001b[0m\u001b[1;33m/\u001b[0m\u001b[0mu\u001b[0m\u001b[1;33m.\u001b[0m\u001b[0ms\u001b[0m\u001b[1;33m,\u001b[0m \u001b[0mcp\u001b[0m\u001b[1;33m.\u001b[0m\u001b[0masnumpy\u001b[0m\u001b[1;33m(\u001b[0m\u001b[0mfinal_mean_anamoly\u001b[0m\u001b[1;33m)\u001b[0m\u001b[1;33m*\u001b[0m\u001b[0mu\u001b[0m\u001b[1;33m.\u001b[0m\u001b[0mrad\u001b[0m\u001b[1;33m\u001b[0m\u001b[1;33m\u001b[0m\u001b[0m\n\u001b[0m\u001b[0;32m    183\u001b[0m \u001b[1;33m\u001b[0m\u001b[0m\n\u001b[0;32m    184\u001b[0m \u001b[1;33m\u001b[0m\u001b[0m\n",
      "\u001b[1;32m~\\anaconda3\\lib\\site-packages\\cupy\\__init__.py\u001b[0m in \u001b[0;36masnumpy\u001b[1;34m(a, stream, order)\u001b[0m\n\u001b[0;32m    771\u001b[0m     \"\"\"\n\u001b[0;32m    772\u001b[0m     \u001b[1;32mif\u001b[0m \u001b[0misinstance\u001b[0m\u001b[1;33m(\u001b[0m\u001b[0ma\u001b[0m\u001b[1;33m,\u001b[0m \u001b[0mndarray\u001b[0m\u001b[1;33m)\u001b[0m\u001b[1;33m:\u001b[0m\u001b[1;33m\u001b[0m\u001b[1;33m\u001b[0m\u001b[0m\n\u001b[1;32m--> 773\u001b[1;33m         \u001b[1;32mreturn\u001b[0m \u001b[0ma\u001b[0m\u001b[1;33m.\u001b[0m\u001b[0mget\u001b[0m\u001b[1;33m(\u001b[0m\u001b[0mstream\u001b[0m\u001b[1;33m=\u001b[0m\u001b[0mstream\u001b[0m\u001b[1;33m,\u001b[0m \u001b[0morder\u001b[0m\u001b[1;33m=\u001b[0m\u001b[0morder\u001b[0m\u001b[1;33m)\u001b[0m\u001b[1;33m\u001b[0m\u001b[1;33m\u001b[0m\u001b[0m\n\u001b[0m\u001b[0;32m    774\u001b[0m     \u001b[1;32melif\u001b[0m \u001b[0mhasattr\u001b[0m\u001b[1;33m(\u001b[0m\u001b[0ma\u001b[0m\u001b[1;33m,\u001b[0m \u001b[1;34m\"__cuda_array_interface__\"\u001b[0m\u001b[1;33m)\u001b[0m\u001b[1;33m:\u001b[0m\u001b[1;33m\u001b[0m\u001b[1;33m\u001b[0m\u001b[0m\n\u001b[0;32m    775\u001b[0m         \u001b[1;32mreturn\u001b[0m \u001b[0marray\u001b[0m\u001b[1;33m(\u001b[0m\u001b[0ma\u001b[0m\u001b[1;33m)\u001b[0m\u001b[1;33m.\u001b[0m\u001b[0mget\u001b[0m\u001b[1;33m(\u001b[0m\u001b[0mstream\u001b[0m\u001b[1;33m=\u001b[0m\u001b[0mstream\u001b[0m\u001b[1;33m,\u001b[0m \u001b[0morder\u001b[0m\u001b[1;33m=\u001b[0m\u001b[0morder\u001b[0m\u001b[1;33m)\u001b[0m\u001b[1;33m\u001b[0m\u001b[1;33m\u001b[0m\u001b[0m\n",
      "\u001b[1;31mKeyboardInterrupt\u001b[0m: "
     ]
    }
   ],
   "source": [
    "dipoleKickStrengths = np.linspace(0.0, 0.01, 100)*u.km\n",
    "quadKickStrengths = np.linspace(0.0, 0.5, 100) * u.second**-1\n",
    "\n",
    "for dipoleKickStrength in dipoleKickStrengths:\n",
    "    for quadKickStrength in quadKickStrengths:\n",
    "        for j in range(0, 10):\n",
    "            echoAmp, echoTime, avr_radius = runOneEchoAmplitudeMeasurement(size, k, m, r_0, epsilon, dipoleKickStrength, quadKickStrength, tau, deltaTau, timestep)\n",
    "\n",
    "            with open('data/echo_amp.csv','a') as csvfile:\n",
    "                np.savetxt(csvfile, [(size, k.value, m.value, r_0.value, epsilon.value*(10**6), dipoleKickStrength.value, quadKickStrength.value, tau.value, deltaTau.value, timestep.value, echoAmp.value, echoTime.value)], fmt=['%d', '%f', '%f','%f','%f','%f','%f','%f','%f','%f','%f','%f'], delimiter=',', comments='')"
   ]
  }
 ],
 "metadata": {
  "interpreter": {
   "hash": "aeb7aba01636700878c18215726c6b4d245e093683e60837a2bcaed6614be737"
  },
  "kernelspec": {
   "display_name": "Python 3.9.1 64-bit",
   "language": "python",
   "name": "python3"
  },
  "language_info": {
   "codemirror_mode": {
    "name": "ipython",
    "version": 3
   },
   "file_extension": ".py",
   "mimetype": "text/x-python",
   "name": "python",
   "nbconvert_exporter": "python",
   "pygments_lexer": "ipython3",
   "version": "3.8.8"
  },
  "orig_nbformat": 4
 },
 "nbformat": 4,
 "nbformat_minor": 2
}
