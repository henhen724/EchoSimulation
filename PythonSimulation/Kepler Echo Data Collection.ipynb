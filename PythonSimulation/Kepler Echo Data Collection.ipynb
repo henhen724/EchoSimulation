{
 "cells": [
  {
   "cell_type": "code",
   "execution_count": 8,
   "metadata": {},
   "outputs": [],
   "source": [
    "import poliastro as PA\n",
    "import numpy as np\n",
    "import matplotlib.pyplot as plt\n",
    "import time as time_pkg\n",
    "\n",
    "from astropy import units as u\n",
    "\n",
    "from poliastro.bodies import Earth, Body\n",
    "from poliastro.twobody import Orbit\n",
    "\n",
    "from scipy.stats import expon, uniform, norm, triang\n",
    "from scipy.special import comb\n",
    "\n",
    "from lib.GPUKeplerSimulation import propagate, average_scaler, average_3vector\n",
    "from lib.DisplaySimulation import displaySimulation"
   ]
  },
  {
   "cell_type": "code",
   "execution_count": 9,
   "metadata": {},
   "outputs": [],
   "source": [
    "class AsteriodBelt:\n",
    "    size = 0\n",
    "    micro = 1*u.km**3/u.s**2\n",
    "    a = np.array([])*u.km\n",
    "    ecc = np.array([])*u.one\n",
    "    inc = np.array([])*u.rad\n",
    "    Omega = np.array([])*u.rad\n",
    "    w = np.array([])*u.rad\n",
    "    M = np.array([])*u.rad\n",
    "    def __init__(self, _size, _micro, _a, _ecc, _inc, _Omega, _w, _M):\n",
    "        self.size = _size\n",
    "        self.micro = _micro\n",
    "        self.a = _a\n",
    "        self.ecc = _ecc\n",
    "        self.inc = _inc\n",
    "        self.Omega = _Omega\n",
    "        self.w = _w\n",
    "        self.M = _M\n",
    "        \n",
    "    def setMeanAnamoly(self, _M):\n",
    "        self.M = _M"
   ]
  },
  {
   "cell_type": "code",
   "execution_count": 10,
   "metadata": {},
   "outputs": [],
   "source": [
    "def dipoleKick(GM, belt, kickStrength):\n",
    "    unit_r = np.empty(3) \n",
    "    newR = np.empty(3)\n",
    "\n",
    "    orb = [None]*belt.size\n",
    "\n",
    "    for i in range(0, belt.size):\n",
    "        orb[i] = Orbit.from_classical(GM, belt.a[i], belt.ecc[i], belt.inc[i], belt.Omega[i], belt.w[i], PA.core.angles.E_to_nu(PA.core.angles.E_to_M(belt.M[i], belt.ecc[i]), belt.ecc[i])*u.rad)\n",
    "\n",
    "    for i in range(0, belt.size):\n",
    "            if orb[i].energy >= 0:\n",
    "                print(orb[i], \" is ALREADY not a bound orbit BEFORE KICKING.\")\n",
    "            old_radius = np.linalg.norm(orb[i].r)\n",
    "            unit_r = orb[i].r/old_radius\n",
    "            old_r_0 = orb[i].a*(1 - np.square(orb[i].ecc))\n",
    "            newPosition = orb[i].r + kickStrength*unit_r\n",
    "            oldThetaVelocity = orb[i].v - np.dot(orb[i].v, unit_r)*unit_r\n",
    "            newThetaVelocity = old_radius/(old_radius + kickStrength)*oldThetaVelocity\n",
    "            newVelocity = np.dot(orb[i].v, unit_r)*unit_r + newThetaVelocity\n",
    "            orb[i] = Orbit.from_vectors(GM, newPosition, newVelocity)\n",
    "            belt.a[i] = orb[i].a\n",
    "            belt.ecc[i] = orb[i].ecc\n",
    "            belt.inc[i] = orb[i].inc\n",
    "            belt.Omega[i] = orb[i].raan\n",
    "            belt.w[i] = orb[i].argp\n",
    "            belt.M[i] = PA.core.angles.E_to_M(PA.core.angles.nu_to_E(orb[i].nu, orb[i].ecc), orb[i].ecc)*u.rad\n",
    "            new_r_0 = orb[i].a*(1 - np.square(orb[i].ecc))\n",
    "            if old_r_0 - new_r_0 > 10**-12*u.km:\n",
    "                print(\"L_2 before and after do not match: \", old_r_0, \"\\t\", new_r_0)\n",
    "            if orb[i].energy >= 0:\n",
    "                print(orb[i], \" is not a bound orbit.\")\n",
    "            if (orb[i].r != newPosition).any():\n",
    "                print(\"r got missassigned.\")\n",
    "    return belt\n",
    "\n",
    "def quadrapoleKick(GM, belt, quad_strength, radius_offset):\n",
    "    unit_r = np.empty(3) \n",
    "    newR = np.empty(3)\n",
    "\n",
    "    orb = [None]*belt.size\n",
    "\n",
    "    for i in range(0, belt.size):\n",
    "        orb[i] = Orbit.from_classical(GM, belt.a[i], belt.ecc[i], belt.inc[i], belt.Omega[i], belt.w[i], PA.core.angles.E_to_nu(PA.core.angles.E_to_M(belt.M[i], belt.ecc[i]), belt.ecc[i])*u.rad)\n",
    "\n",
    "    for i in range(0, belt.size):\n",
    "            if orb[i].energy >= 0:\n",
    "                print(orb[i], \" is ALREADY not a bound orbit BEFORE KICKING.\")\n",
    "            old_radius = np.linalg.norm(orb[i].r)\n",
    "            unit_r = orb[i].r/old_radius\n",
    "            newVelocity = orb[i].v + quad_strength*(old_radius - radius_offset)*unit_r\n",
    "            orb[i] = Orbit.from_vectors(GM, orb[i].r, newVelocity)\n",
    "            belt.a[i] = orb[i].a\n",
    "            belt.ecc[i] = orb[i].ecc\n",
    "            belt.inc[i] = orb[i].inc\n",
    "            belt.Omega[i] = orb[i].raan\n",
    "            belt.w[i] = orb[i].argp\n",
    "            belt.M[i] = PA.core.angles.E_to_M(PA.core.angles.nu_to_E(orb[i].nu, orb[i].ecc), orb[i].ecc)*u.rad\n",
    "            if orb[i].energy >= 0:\n",
    "                print(orb[i], \" is not a bound orbit.\")\n",
    "    return belt"
   ]
  },
  {
   "cell_type": "code",
   "execution_count": 39,
   "metadata": {},
   "outputs": [],
   "source": [
    "def runOneEchoAmplitudeMeasurement(size, r_0, epsilon, k, m, dipoleKickStrength, quadrapoleKickStrength, tau, deltaTau, timestep):\n",
    "    # Near SHO Distribution\n",
    "    # Here I'm setting J_SHO = sqrt(ma^3/2k) * (p^2/2m + k/a^3*x^2)\n",
    "    # This leads to J_SHO = sqrt(ka/2)e^2 = sqrt(k/2)(J_1 - J_2^2/J_1)\n",
    "    # Then im distributing particles according to exp{- J_SHO/epsilon}\n",
    "\n",
    "    J_SHO = expon.rvs(scale=epsilon, loc=0, size=size)*1*u.kg*u.km**2/u.s\n",
    "\n",
    "    #J_2 = expon.norm(scale=sigma_a, loc=r_0, size=size)\n",
    "    J_2 = np.repeat(np.sqrt(r_0), size)\n",
    "\n",
    "    J_1 = (J_SHO + np.sqrt(np.power(J_SHO, 2) + 4*k*m*np.power(J_2, 2)))/(2.0*np.sqrt(k*m))\n",
    "    J_3 = J_2\n",
    "\n",
    "    M = uniform.rvs(loc = -2*np.pi, scale = 2*np.pi, size=size) * u.rad\n",
    "    w = uniform.rvs(loc = 0, scale = 2*np.pi, size=size) * u.rad\n",
    "    Omega = np.repeat(0.0, size) * u.rad\n",
    "\n",
    "    a = np.square(J_1)\n",
    "    ecc = np.sqrt(1 - np.square(J_2/J_1)) * u.one\n",
    "    inc = np.arccos(J_3/J_2)\n",
    "\n",
    "    GM = Body(None, k/m, \"Central Body\")\n",
    "\n",
    "    belt = AsteriodBelt(size, k/m, a, ecc, inc, Omega, w, M)\n",
    "\n",
    "    tau = 1000*u.second\n",
    "\n",
    "    belt = dipoleKick(GM, belt, dipoleKickStrength)\n",
    "\n",
    "    radiuses, velocities, final_mean_anamoly = propagate(belt, tau, tau/2)\n",
    "    belt.setMeanAnamoly(final_mean_anamoly)\n",
    "\n",
    "    belt = quadrapoleKick(GM, belt, quadrapoleKickStrength, r_0)\n",
    "\n",
    "    radiuses, velocities, final_mean_anamoly = propagate(belt, tau-deltaTau, (tau-deltaTau)/2)\n",
    "    belt.setMeanAnamoly(final_mean_anamoly)\n",
    "\n",
    "    radiuses, velocities, final_mean_anamoly = propagate(belt, 2*deltaTau, timestep)\n",
    "\n",
    "    avr_radius = average_scaler(radiuses)\n",
    "\n",
    "    avr_radius_diviation = np.absolute(avr_radius - r_0)\n",
    "\n",
    "    echoAmp = max(avr_radius_diviation)\n",
    "\n",
    "    echoIndex = np.argmax(avr_radius_diviation)\n",
    "\n",
    "    return echoAmp, echoIndex*timestep + tau-deltaTau, avr_radius\n"
   ]
  },
  {
   "cell_type": "code",
   "execution_count": 40,
   "metadata": {},
   "outputs": [
    {
     "name": "stdout",
     "output_type": "stream",
     "text": [
      "GPU memory size:  6871580672\n",
      "Running  1  memory frames\n",
      "GPU memory size:  6871580672\n",
      "Running  1  memory frames\n",
      "GPU memory size:  6871580672\n",
      "Running  12  memory frames\n"
     ]
    }
   ],
   "source": [
    "deltaTau = 300*u.second\n",
    "timestep = 0.1*u.second\n",
    "echoAmp, echoTime, avr_radius = runOneEchoAmplitudeMeasurement(20000, 0.05*u.km, 0.0000001*u.kg*u.km**2/u.s, 0.00112*u.kg*u.km**3/u.s**2, 0.1*u.kg, 0.001*u.km, 0.35 * u.second**-1, 1000*u.second, deltaTau, timestep)"
   ]
  },
  {
   "cell_type": "code",
   "execution_count": 41,
   "metadata": {},
   "outputs": [
    {
     "data": {
      "text/plain": [
       "[<matplotlib.lines.Line2D at 0x1f54464c5b0>]"
      ]
     },
     "execution_count": 41,
     "metadata": {},
     "output_type": "execute_result"
    },
    {
     "data": {
      "image/png": "[encoded data removed]",
      "text/plain": [
       "<Figure size 432x288 with 1 Axes>"
      ]
     },
     "metadata": {
      "needs_background": "light"
     },
     "output_type": "display_data"
    }
   ],
   "source": [
    "time = np.linspace(0.0*u.second, 2*deltaTau, int(2*deltaTau/timestep))\n",
    "plt.plot(time, avr_radius)"
   ]
  },
  {
   "cell_type": "code",
   "execution_count": null,
   "metadata": {},
   "outputs": [],
   "source": []
  }
 ],
 "metadata": {
  "interpreter": {
   "hash": "aeb7aba01636700878c18215726c6b4d245e093683e60837a2bcaed6614be737"
  },
  "kernelspec": {
   "display_name": "Python 3.9.1 64-bit",
   "language": "python",
   "name": "python3"
  },
  "language_info": {
   "codemirror_mode": {
    "name": "ipython",
    "version": 3
   },
   "file_extension": ".py",
   "mimetype": "text/x-python",
   "name": "python",
   "nbconvert_exporter": "python",
   "pygments_lexer": "ipython3",
   "version": "3.9.1"
  },
  "orig_nbformat": 4
 },
 "nbformat": 4,
 "nbformat_minor": 2
}
