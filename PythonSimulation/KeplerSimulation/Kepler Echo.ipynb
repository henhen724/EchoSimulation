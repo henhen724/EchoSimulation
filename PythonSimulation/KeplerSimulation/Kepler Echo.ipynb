{
 "cells": [
  {
   "cell_type": "code",
   "execution_count": 1,
   "id": "5162d402",
   "metadata": {},
   "outputs": [],
   "source": [
    "import numpy as np\n",
    "import matplotlib.pyplot as plt\n",
    "import time as time_pkg\n",
    "\n",
    "from astropy import units as u\n",
    "\n",
    "from lib.GPUKeplerSimulation import propagate, average_scaler\n",
    "from lib.DisplaySimulation import displaySimulation\n",
    "from lib.AsteroidBelt import generateNearSHODistribution"
   ]
  },
  {
   "cell_type": "code",
   "execution_count": 2,
   "id": "b6c0565f",
   "metadata": {},
   "outputs": [
    {
     "data": {
      "text/plain": [
       "1"
      ]
     },
     "execution_count": 2,
     "metadata": {},
     "output_type": "execute_result"
    }
   ],
   "source": [
    "import cupy as cp\n",
    "cp.cuda.runtime.getDeviceCount()"
   ]
  },
  {
   "cell_type": "code",
   "execution_count": 3,
   "id": "9b3f002e",
   "metadata": {},
   "outputs": [],
   "source": [
    "size = 20000\n",
    "r_0 = 0.05*u.km\n",
    "epsilon = 0.0000001*u.kg*u.km**2/u.s\n",
    "micro = 0.00112*u.km**3/u.s**2 \n",
    "m = 0.1*u.kg\n",
    "\n",
    "belt = generateNearSHODistribution(size, micro, m, r_0, epsilon)"
   ]
  },
  {
   "cell_type": "code",
   "execution_count": 4,
   "id": "ce14de6d",
   "metadata": {},
   "outputs": [
    {
     "name": "stdout",
     "output_type": "stream",
     "text": [
      "Action 1:  0.0010583005244258364 kg km2 / s\n",
      "Energy:  -0.00056 kg km2 / s2\n",
      "Omega_0:  1.0583005244258359 1 / s\n",
      "Omega_prime:  -2999.9999999999986 1 / (kg km2)\n",
      "Decoherence Time:  -20943.951023931964 s\n"
     ]
    }
   ],
   "source": [
    "J_1 = m*np.sqrt(2*micro*r_0)\n",
    "print(\"Action 1: \", J_1)\n",
    "print(\"Energy: \", -np.power(m, 3)*np.power(micro,2)/(2*np.power(J_1, 2)))\n",
    "omega = np.power(m,3)*np.power(micro,2)/np.power(J_1, 3)\n",
    "omega_prime = -3*np.power(m,3)*np.power(micro,2)/np.power(J_1, 4)\n",
    "print(\"Omega_0: \", omega)\n",
    "print(\"Omega_prime: \", omega_prime)\n",
    "print(\"Decoherence Time: \", 2*np.pi/(omega_prime*epsilon))\n",
    "\n",
    "# average_radius = 3*sigma_e**2 + 3*sigma_e*sigma_a + 3*sigma_e*np.sqrt(r_0) + 2*sigma_a**2 + 2*sigma_a*np.sqrt(r_0) + r_0\n",
    "# print(\"Initial average radius: \", average_radius)"
   ]
  },
  {
   "cell_type": "code",
   "execution_count": 5,
   "id": "96d31cae",
   "metadata": {},
   "outputs": [],
   "source": [
    "timestep = 30*u.second\n",
    "\n",
    "time_before_kick = 30*u.second\n",
    "time_after_kick = 21000*u.second\n",
    "time_after_quad_kick = 21000*u.second\n",
    "\n",
    "dipole_time = time_before_kick\n",
    "quad_time = time_before_kick + time_after_kick\n",
    "end_time = time_before_kick + time_after_kick + time_after_quad_kick\n",
    "\n",
    "dipole_step = int(np.ceil(dipole_time/timestep))\n",
    "quad_step = int(np.ceil(quad_time/timestep))\n",
    "end_step = int(np.ceil(end_time/timestep))\n",
    "\n",
    "\n",
    "time = np.linspace(0.0*u.second, end_time, end_step)\n",
    "\n",
    "avr_radius = np.zeros(end_step) * u.km\n",
    "\n",
    "radiuses = np.zeros((size, end_step)) * u.km\n",
    "velocities = np.zeros((size, end_step)) * u.km/u.s"
   ]
  },
  {
   "cell_type": "code",
   "execution_count": 6,
   "id": "2dd19f88",
   "metadata": {},
   "outputs": [
    {
     "name": "stdout",
     "output_type": "stream",
     "text": [
      "GPU Time:  0.045998573303222656  Astro Time:  0.0010025501251220703\n"
     ]
    }
   ],
   "source": [
    "gpuStart = time_pkg.time()\n",
    "radiuses[:,0:dipole_step], velocities[:,0:dipole_step], final_mean_anamoly = propagate(belt, dipole_time, timestep)\n",
    "gpuEnd = time_pkg.time()\n",
    "belt.setMeanAnamoly(final_mean_anamoly)\n",
    "astroEnd = time_pkg.time()\n",
    "\n",
    "print(\"GPU Time: \", gpuEnd-gpuStart, \" Astro Time: \", astroEnd-gpuEnd)"
   ]
  },
  {
   "cell_type": "code",
   "execution_count": 7,
   "id": "c3b9a541",
   "metadata": {},
   "outputs": [],
   "source": [
    "avr_radius[0:dipole_step] = average_scaler(radiuses, end=dipole_step)"
   ]
  },
  {
   "cell_type": "code",
   "execution_count": 8,
   "id": "b72138db",
   "metadata": {},
   "outputs": [
    {
     "data": {
      "text/plain": [
       "[<matplotlib.lines.Line2D at 0x16800417b50>]"
      ]
     },
     "execution_count": 8,
     "metadata": {},
     "output_type": "execute_result"
    },
    {
     "data": {
      "image/png": "[encoded data removed]",
      "text/plain": [
       "<Figure size 432x288 with 1 Axes>"
      ]
     },
     "metadata": {
      "needs_background": "light"
     },
     "output_type": "display_data"
    }
   ],
   "source": [
    "plt.plot(time[0:dipole_step], avr_radius[0:dipole_step])"
   ]
  },
  {
   "cell_type": "code",
   "execution_count": 9,
   "id": "12c1f3c4",
   "metadata": {},
   "outputs": [],
   "source": [
    "belt.radial_kick(0.004040*u.km)"
   ]
  },
  {
   "cell_type": "code",
   "execution_count": 10,
   "id": "332dc297",
   "metadata": {},
   "outputs": [
    {
     "name": "stdout",
     "output_type": "stream",
     "text": [
      "GPU Time:  0.6859982013702393  Astro Time:  0.0\n"
     ]
    }
   ],
   "source": [
    "gpuStart = time_pkg.time()\n",
    "radiuses[:,dipole_step:quad_step], velocities[:,dipole_step:quad_step], final_mean_anamoly = propagate(belt, quad_time-dipole_time, timestep)\n",
    "gpuEnd = time_pkg.time()\n",
    "belt.setMeanAnamoly(final_mean_anamoly)\n",
    "astroEnd = time_pkg.time()\n",
    "\n",
    "print(\"GPU Time: \", gpuEnd-gpuStart, \" Astro Time: \", astroEnd-gpuEnd)"
   ]
  },
  {
   "cell_type": "code",
   "execution_count": 11,
   "id": "5aa6083d",
   "metadata": {},
   "outputs": [],
   "source": [
    "avr_radius[dipole_step:quad_step] = average_scaler(radiuses, start=dipole_step, end=quad_step)"
   ]
  },
  {
   "cell_type": "code",
   "execution_count": 12,
   "id": "59a5ef17",
   "metadata": {},
   "outputs": [
    {
     "data": {
      "text/plain": [
       "[<matplotlib.lines.Line2D at 0x16801ff2700>]"
      ]
     },
     "execution_count": 12,
     "metadata": {},
     "output_type": "execute_result"
    },
    {
     "data": {
      "image/png": "[encoded data removed]",
      "text/plain": [
       "<Figure size 432x288 with 1 Axes>"
      ]
     },
     "metadata": {
      "needs_background": "light"
     },
     "output_type": "display_data"
    }
   ],
   "source": [
    "plt.plot(time[0:quad_step], avr_radius[0:quad_step])\n"
   ]
  },
  {
   "cell_type": "code",
   "execution_count": 13,
   "id": "231c1436",
   "metadata": {},
   "outputs": [],
   "source": [
    "belt.radial_quadrapole_kick(0.01 * u.s**-1, r_0)"
   ]
  },
  {
   "cell_type": "code",
   "execution_count": 14,
   "id": "6b9ab110",
   "metadata": {},
   "outputs": [
    {
     "name": "stdout",
     "output_type": "stream",
     "text": [
      "GPU Time:  0.6859986782073975  Astro Time:  0.0\n"
     ]
    }
   ],
   "source": [
    "gpuStart = time_pkg.time()\n",
    "radiuses[:,quad_step:end_step], velocities[:,quad_step:end_step], final_mean_anamoly = propagate(belt, end_time - quad_time, timestep)\n",
    "gpuEnd = time_pkg.time()\n",
    "belt.setMeanAnamoly(final_mean_anamoly)\n",
    "astroEnd = time_pkg.time()\n",
    "\n",
    "print(\"GPU Time: \", gpuEnd-gpuStart, \" Astro Time: \", astroEnd-gpuEnd)"
   ]
  },
  {
   "cell_type": "code",
   "execution_count": 15,
   "id": "2ad78753",
   "metadata": {},
   "outputs": [],
   "source": [
    "avr_radius[quad_step:end_step] = average_scaler(radiuses[quad_step:end_step], start=quad_step, end=end_step)"
   ]
  },
  {
   "cell_type": "code",
   "execution_count": 16,
   "id": "f781f9d6",
   "metadata": {},
   "outputs": [
    {
     "data": {
      "text/plain": [
       "[<matplotlib.lines.Line2D at 0x168021d5430>]"
      ]
     },
     "execution_count": 16,
     "metadata": {},
     "output_type": "execute_result"
    },
    {
     "data": {
      "image/png": "[encoded data removed]",
      "text/plain": [
       "<Figure size 432x288 with 1 Axes>"
      ]
     },
     "metadata": {
      "needs_background": "light"
     },
     "output_type": "display_data"
    }
   ],
   "source": [
    "plt.plot(time[0:end_step], avr_radius[0:end_step])"
   ]
  },
  {
   "cell_type": "code",
   "execution_count": null,
   "id": "43daf6b7",
   "metadata": {},
   "outputs": [],
   "source": []
  }
 ],
 "metadata": {
  "kernelspec": {
   "display_name": "Python 3.8.8 ('base')",
   "language": "python",
   "name": "python3"
  },
  "language_info": {
   "codemirror_mode": {
    "name": "ipython",
    "version": 3
   },
   "file_extension": ".py",
   "mimetype": "text/x-python",
   "name": "python",
   "nbconvert_exporter": "python",
   "pygments_lexer": "ipython3",
   "version": "3.8.8"
  },
  "vscode": {
   "interpreter": {
    "hash": "1c61b166f608fd14984e733dd216c4638a3f88dfb0e4c6604180a6ca8eae2f70"
   }
  }
 },
 "nbformat": 4,
 "nbformat_minor": 5
}
